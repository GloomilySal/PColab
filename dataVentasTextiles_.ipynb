{
  "nbformat": 4,
  "nbformat_minor": 0,
  "metadata": {
    "colab": {
      "name": "dataVentasTextiles_.ipynb",
      "provenance": [],
      "collapsed_sections": [
        "dNvOr_QKwxiN",
        "OdQ6hAWDMv24",
        "FkEAgVaBM6Xd",
        "X4VFP18_-1-g"
      ],
      "include_colab_link": true
    },
    "kernelspec": {
      "name": "python3",
      "display_name": "Python 3"
    },
    "language_info": {
      "name": "python"
    }
  },
  "cells": [
    {
      "cell_type": "markdown",
      "metadata": {
        "id": "view-in-github",
        "colab_type": "text"
      },
      "source": [
        "<a href=\"https://colab.research.google.com/github/GloomilySal/PColab/blob/main/dataVentasTextiles_.ipynb\" target=\"_parent\"><img src=\"https://colab.research.google.com/assets/colab-badge.svg\" alt=\"Open In Colab\"/></a>"
      ]
    },
    {
      "cell_type": "markdown",
      "metadata": {
        "id": "0QFJJoObBMkv"
      },
      "source": [
        "##**Importando librerías**"
      ]
    },
    {
      "cell_type": "code",
      "metadata": {
        "colab": {
          "base_uri": "https://localhost:8080/"
        },
        "id": "z0e9KX8myFqe",
        "outputId": "f742b14a-0cf0-4dfd-8897-7eebbfbc8344"
      },
      "source": [
        "from google.colab import drive\n",
        "drive.mount('/content/drive')"
      ],
      "execution_count": null,
      "outputs": [
        {
          "output_type": "stream",
          "text": [
            "Mounted at /content/drive\n"
          ],
          "name": "stdout"
        }
      ]
    },
    {
      "cell_type": "code",
      "metadata": {
        "id": "_HAozJucywiw"
      },
      "source": [
        "import pandas as pd\n",
        "import numpy as np\n",
        "import matplotlib.pyplot as plt\n",
        "import seaborn as sns\n",
        "%matplotlib inline"
      ],
      "execution_count": null,
      "outputs": []
    },
    {
      "cell_type": "code",
      "metadata": {
        "id": "0saKbfWXyy_3"
      },
      "source": [
        "dataVentas= pd.read_csv('/content/drive/MyDrive/Grupal_ML2021-1/DATASET_VENTAS/dataVentasTextiles_ok.csv')"
      ],
      "execution_count": null,
      "outputs": []
    },
    {
      "cell_type": "markdown",
      "metadata": {
        "id": "jh5U9x-qBaGm"
      },
      "source": [
        "##**Conociendo la data**"
      ]
    },
    {
      "cell_type": "markdown",
      "metadata": {
        "id": "3l027tcv_JnE"
      },
      "source": [
        "**Mostrando Información de los datos**"
      ]
    },
    {
      "cell_type": "code",
      "metadata": {
        "colab": {
          "base_uri": "https://localhost:8080/"
        },
        "id": "LfczWJl6_I3H",
        "outputId": "6d186718-b9ec-4d06-fb21-b82432d2b4da"
      },
      "source": [
        "dataVentas.info()"
      ],
      "execution_count": null,
      "outputs": [
        {
          "output_type": "stream",
          "text": [
            "<class 'pandas.core.frame.DataFrame'>\n",
            "RangeIndex: 63221 entries, 0 to 63220\n",
            "Data columns (total 15 columns):\n",
            " #   Column           Non-Null Count  Dtype  \n",
            "---  ------           --------------  -----  \n",
            " 0   Orden            63221 non-null  int64  \n",
            " 1   Fecha            63221 non-null  object \n",
            " 2   Medio            63221 non-null  object \n",
            " 3   Vendedor         63221 non-null  object \n",
            " 4   Plataforma       63221 non-null  object \n",
            " 5   Comisión         63221 non-null  float64\n",
            " 6   Tipo Orden       63221 non-null  object \n",
            " 7   Tipo de Cliente  63221 non-null  object \n",
            " 8   Sexo             63221 non-null  object \n",
            " 9   Categoría        63221 non-null  object \n",
            " 10  Producto         63221 non-null  object \n",
            " 11  Item             63221 non-null  object \n",
            " 12  Precio           63221 non-null  int64  \n",
            " 13  NFrec_Devol_V    63221 non-null  float64\n",
            " 14  NFrec_Devol_P    63221 non-null  float64\n",
            "dtypes: float64(3), int64(2), object(10)\n",
            "memory usage: 7.2+ MB\n"
          ],
          "name": "stdout"
        }
      ]
    },
    {
      "cell_type": "code",
      "metadata": {
        "colab": {
          "base_uri": "https://localhost:8080/",
          "height": 297
        },
        "id": "9SoXHlWd_OJ-",
        "outputId": "dde73b24-960a-44f6-cec1-57ea81c21fd0"
      },
      "source": [
        "dataVentas.describe()"
      ],
      "execution_count": null,
      "outputs": [
        {
          "output_type": "execute_result",
          "data": {
            "text/html": [
              "<div>\n",
              "<style scoped>\n",
              "    .dataframe tbody tr th:only-of-type {\n",
              "        vertical-align: middle;\n",
              "    }\n",
              "\n",
              "    .dataframe tbody tr th {\n",
              "        vertical-align: top;\n",
              "    }\n",
              "\n",
              "    .dataframe thead th {\n",
              "        text-align: right;\n",
              "    }\n",
              "</style>\n",
              "<table border=\"1\" class=\"dataframe\">\n",
              "  <thead>\n",
              "    <tr style=\"text-align: right;\">\n",
              "      <th></th>\n",
              "      <th>Orden</th>\n",
              "      <th>Comisión</th>\n",
              "      <th>Precio</th>\n",
              "      <th>NFrec_Devol_V</th>\n",
              "      <th>NFrec_Devol_P</th>\n",
              "    </tr>\n",
              "  </thead>\n",
              "  <tbody>\n",
              "    <tr>\n",
              "      <th>count</th>\n",
              "      <td>63221.000000</td>\n",
              "      <td>63221.000000</td>\n",
              "      <td>63221.000000</td>\n",
              "      <td>63221.000000</td>\n",
              "      <td>63221.000000</td>\n",
              "    </tr>\n",
              "    <tr>\n",
              "      <th>mean</th>\n",
              "      <td>3738.557615</td>\n",
              "      <td>0.127263</td>\n",
              "      <td>40.680312</td>\n",
              "      <td>0.113129</td>\n",
              "      <td>0.098823</td>\n",
              "    </tr>\n",
              "    <tr>\n",
              "      <th>std</th>\n",
              "      <td>2164.244875</td>\n",
              "      <td>0.146989</td>\n",
              "      <td>13.574989</td>\n",
              "      <td>0.148607</td>\n",
              "      <td>0.014654</td>\n",
              "    </tr>\n",
              "    <tr>\n",
              "      <th>min</th>\n",
              "      <td>1.000000</td>\n",
              "      <td>0.000000</td>\n",
              "      <td>10.000000</td>\n",
              "      <td>0.000000</td>\n",
              "      <td>0.050000</td>\n",
              "    </tr>\n",
              "    <tr>\n",
              "      <th>25%</th>\n",
              "      <td>1882.000000</td>\n",
              "      <td>0.000000</td>\n",
              "      <td>34.000000</td>\n",
              "      <td>0.050000</td>\n",
              "      <td>0.090000</td>\n",
              "    </tr>\n",
              "    <tr>\n",
              "      <th>50%</th>\n",
              "      <td>3738.000000</td>\n",
              "      <td>0.000000</td>\n",
              "      <td>40.000000</td>\n",
              "      <td>0.060000</td>\n",
              "      <td>0.100000</td>\n",
              "    </tr>\n",
              "    <tr>\n",
              "      <th>75%</th>\n",
              "      <td>5610.000000</td>\n",
              "      <td>0.300000</td>\n",
              "      <td>50.000000</td>\n",
              "      <td>0.120000</td>\n",
              "      <td>0.110000</td>\n",
              "    </tr>\n",
              "    <tr>\n",
              "      <th>max</th>\n",
              "      <td>7500.000000</td>\n",
              "      <td>0.400000</td>\n",
              "      <td>100.000000</td>\n",
              "      <td>0.630000</td>\n",
              "      <td>0.160000</td>\n",
              "    </tr>\n",
              "  </tbody>\n",
              "</table>\n",
              "</div>"
            ],
            "text/plain": [
              "              Orden      Comisión        Precio  NFrec_Devol_V  NFrec_Devol_P\n",
              "count  63221.000000  63221.000000  63221.000000   63221.000000   63221.000000\n",
              "mean    3738.557615      0.127263     40.680312       0.113129       0.098823\n",
              "std     2164.244875      0.146989     13.574989       0.148607       0.014654\n",
              "min        1.000000      0.000000     10.000000       0.000000       0.050000\n",
              "25%     1882.000000      0.000000     34.000000       0.050000       0.090000\n",
              "50%     3738.000000      0.000000     40.000000       0.060000       0.100000\n",
              "75%     5610.000000      0.300000     50.000000       0.120000       0.110000\n",
              "max     7500.000000      0.400000    100.000000       0.630000       0.160000"
            ]
          },
          "metadata": {
            "tags": []
          },
          "execution_count": 6
        }
      ]
    },
    {
      "cell_type": "markdown",
      "metadata": {
        "id": "ns5VsRui-7E2"
      },
      "source": [
        "**Mostrando datos aleatorios**"
      ]
    },
    {
      "cell_type": "code",
      "metadata": {
        "id": "WGFWEvro-5On",
        "colab": {
          "base_uri": "https://localhost:8080/",
          "height": 391
        },
        "outputId": "31724f61-200e-4523-88b7-f4582f0a414a"
      },
      "source": [
        "dataVentas.sample(6)"
      ],
      "execution_count": null,
      "outputs": [
        {
          "output_type": "execute_result",
          "data": {
            "text/html": [
              "<div>\n",
              "<style scoped>\n",
              "    .dataframe tbody tr th:only-of-type {\n",
              "        vertical-align: middle;\n",
              "    }\n",
              "\n",
              "    .dataframe tbody tr th {\n",
              "        vertical-align: top;\n",
              "    }\n",
              "\n",
              "    .dataframe thead th {\n",
              "        text-align: right;\n",
              "    }\n",
              "</style>\n",
              "<table border=\"1\" class=\"dataframe\">\n",
              "  <thead>\n",
              "    <tr style=\"text-align: right;\">\n",
              "      <th></th>\n",
              "      <th>Orden</th>\n",
              "      <th>Fecha</th>\n",
              "      <th>Medio</th>\n",
              "      <th>Vendedor</th>\n",
              "      <th>Plataforma</th>\n",
              "      <th>Comisión</th>\n",
              "      <th>Tipo Orden</th>\n",
              "      <th>Tipo de Cliente</th>\n",
              "      <th>Sexo</th>\n",
              "      <th>Categoría</th>\n",
              "      <th>Producto</th>\n",
              "      <th>Item</th>\n",
              "      <th>Precio</th>\n",
              "      <th>NFrec_Devol_V</th>\n",
              "      <th>NFrec_Devol_P</th>\n",
              "    </tr>\n",
              "  </thead>\n",
              "  <tbody>\n",
              "    <tr>\n",
              "      <th>26833</th>\n",
              "      <td>3157</td>\n",
              "      <td>18/12/2020</td>\n",
              "      <td>Propio</td>\n",
              "      <td>Directo en Tienda</td>\n",
              "      <td>Website</td>\n",
              "      <td>0.0</td>\n",
              "      <td>Compra</td>\n",
              "      <td>Habitual</td>\n",
              "      <td>Mujeres</td>\n",
              "      <td>Leggings</td>\n",
              "      <td>Leggings Dreamy</td>\n",
              "      <td>Bottoms</td>\n",
              "      <td>50</td>\n",
              "      <td>0.02</td>\n",
              "      <td>0.10</td>\n",
              "    </tr>\n",
              "    <tr>\n",
              "      <th>38430</th>\n",
              "      <td>4545</td>\n",
              "      <td>06/03/2020</td>\n",
              "      <td>Propio</td>\n",
              "      <td>Publicidad Insta</td>\n",
              "      <td>Instagram</td>\n",
              "      <td>0.0</td>\n",
              "      <td>Compra</td>\n",
              "      <td>Habitual</td>\n",
              "      <td>Mujeres</td>\n",
              "      <td>Camisetas y Tops</td>\n",
              "      <td>Camiseta Carbon mesh</td>\n",
              "      <td>Tops</td>\n",
              "      <td>34</td>\n",
              "      <td>0.06</td>\n",
              "      <td>0.08</td>\n",
              "    </tr>\n",
              "    <tr>\n",
              "      <th>57259</th>\n",
              "      <td>6781</td>\n",
              "      <td>30/12/2020</td>\n",
              "      <td>Influencer</td>\n",
              "      <td>aleixploreuria</td>\n",
              "      <td>Youtube</td>\n",
              "      <td>0.2</td>\n",
              "      <td>Compra</td>\n",
              "      <td>Nuevo</td>\n",
              "      <td>Mujeres</td>\n",
              "      <td>Chamarras</td>\n",
              "      <td>Chamarra Windbreaker</td>\n",
              "      <td>Tops</td>\n",
              "      <td>48</td>\n",
              "      <td>0.06</td>\n",
              "      <td>0.09</td>\n",
              "    </tr>\n",
              "    <tr>\n",
              "      <th>24621</th>\n",
              "      <td>2905</td>\n",
              "      <td>24/01/2020</td>\n",
              "      <td>Propio</td>\n",
              "      <td>Publicidad Insta</td>\n",
              "      <td>Instagram</td>\n",
              "      <td>0.0</td>\n",
              "      <td>Compra</td>\n",
              "      <td>Habitual</td>\n",
              "      <td>Hombre</td>\n",
              "      <td>Interior</td>\n",
              "      <td>Leggings Flex</td>\n",
              "      <td>Interior</td>\n",
              "      <td>50</td>\n",
              "      <td>0.06</td>\n",
              "      <td>0.08</td>\n",
              "    </tr>\n",
              "    <tr>\n",
              "      <th>22312</th>\n",
              "      <td>2631</td>\n",
              "      <td>28/10/2020</td>\n",
              "      <td>Propio</td>\n",
              "      <td>Publicidad Youtube</td>\n",
              "      <td>Youtube</td>\n",
              "      <td>0.0</td>\n",
              "      <td>Compra</td>\n",
              "      <td>Habitual</td>\n",
              "      <td>Hombre</td>\n",
              "      <td>Pantalones</td>\n",
              "      <td>Pants de Entrenamiento Reactivo</td>\n",
              "      <td>Bottoms</td>\n",
              "      <td>40</td>\n",
              "      <td>0.05</td>\n",
              "      <td>0.10</td>\n",
              "    </tr>\n",
              "    <tr>\n",
              "      <th>50670</th>\n",
              "      <td>5984</td>\n",
              "      <td>15/02/2020</td>\n",
              "      <td>Propio</td>\n",
              "      <td>Publicidad Face</td>\n",
              "      <td>Facebook</td>\n",
              "      <td>0.0</td>\n",
              "      <td>Compra</td>\n",
              "      <td>Nuevo</td>\n",
              "      <td>Hombre</td>\n",
              "      <td>Calcetines</td>\n",
              "      <td>calcetines Delgados</td>\n",
              "      <td>Interior</td>\n",
              "      <td>10</td>\n",
              "      <td>0.07</td>\n",
              "      <td>0.10</td>\n",
              "    </tr>\n",
              "  </tbody>\n",
              "</table>\n",
              "</div>"
            ],
            "text/plain": [
              "       Orden       Fecha       Medio  ... Precio NFrec_Devol_V  NFrec_Devol_P\n",
              "26833   3157  18/12/2020      Propio  ...     50          0.02           0.10\n",
              "38430   4545  06/03/2020      Propio  ...     34          0.06           0.08\n",
              "57259   6781  30/12/2020  Influencer  ...     48          0.06           0.09\n",
              "24621   2905  24/01/2020      Propio  ...     50          0.06           0.08\n",
              "22312   2631  28/10/2020      Propio  ...     40          0.05           0.10\n",
              "50670   5984  15/02/2020      Propio  ...     10          0.07           0.10\n",
              "\n",
              "[6 rows x 15 columns]"
            ]
          },
          "metadata": {
            "tags": []
          },
          "execution_count": 96
        }
      ]
    },
    {
      "cell_type": "markdown",
      "metadata": {
        "id": "aLnUbkAQBinN"
      },
      "source": [
        "**Mostrando las 5 primeras filas de registros**\n"
      ]
    },
    {
      "cell_type": "code",
      "metadata": {
        "id": "5SmnHwBhBvcs",
        "colab": {
          "base_uri": "https://localhost:8080/",
          "height": 323
        },
        "outputId": "6a677eeb-879d-4a9a-8dad-3203e2a7aea1"
      },
      "source": [
        "dataVentas.head()"
      ],
      "execution_count": null,
      "outputs": [
        {
          "output_type": "execute_result",
          "data": {
            "text/html": [
              "<div>\n",
              "<style scoped>\n",
              "    .dataframe tbody tr th:only-of-type {\n",
              "        vertical-align: middle;\n",
              "    }\n",
              "\n",
              "    .dataframe tbody tr th {\n",
              "        vertical-align: top;\n",
              "    }\n",
              "\n",
              "    .dataframe thead th {\n",
              "        text-align: right;\n",
              "    }\n",
              "</style>\n",
              "<table border=\"1\" class=\"dataframe\">\n",
              "  <thead>\n",
              "    <tr style=\"text-align: right;\">\n",
              "      <th></th>\n",
              "      <th>Orden</th>\n",
              "      <th>Fecha</th>\n",
              "      <th>Medio</th>\n",
              "      <th>Vendedor</th>\n",
              "      <th>Plataforma</th>\n",
              "      <th>Comisión</th>\n",
              "      <th>Tipo Orden</th>\n",
              "      <th>Tipo de Cliente</th>\n",
              "      <th>Sexo</th>\n",
              "      <th>Categoría</th>\n",
              "      <th>Producto</th>\n",
              "      <th>Item</th>\n",
              "      <th>Precio</th>\n",
              "      <th>NFrec_Devol_V</th>\n",
              "      <th>NFrec_Devol_P</th>\n",
              "    </tr>\n",
              "  </thead>\n",
              "  <tbody>\n",
              "    <tr>\n",
              "      <th>0</th>\n",
              "      <td>1</td>\n",
              "      <td>05/08/2020</td>\n",
              "      <td>Propio</td>\n",
              "      <td>Directo en Tienda</td>\n",
              "      <td>Website</td>\n",
              "      <td>0.0</td>\n",
              "      <td>Compra</td>\n",
              "      <td>Habitual</td>\n",
              "      <td>Hombre</td>\n",
              "      <td>Pantalones</td>\n",
              "      <td>Pants de Entrenamiento Reactivo</td>\n",
              "      <td>Bottoms</td>\n",
              "      <td>40</td>\n",
              "      <td>0.02</td>\n",
              "      <td>0.10</td>\n",
              "    </tr>\n",
              "    <tr>\n",
              "      <th>1</th>\n",
              "      <td>1</td>\n",
              "      <td>05/08/2020</td>\n",
              "      <td>Propio</td>\n",
              "      <td>Directo en Tienda</td>\n",
              "      <td>Website</td>\n",
              "      <td>0.0</td>\n",
              "      <td>Compra</td>\n",
              "      <td>Habitual</td>\n",
              "      <td>Hombre</td>\n",
              "      <td>Sudaderas</td>\n",
              "      <td>Sudadera sin Costuras</td>\n",
              "      <td>Tops</td>\n",
              "      <td>50</td>\n",
              "      <td>0.02</td>\n",
              "      <td>0.12</td>\n",
              "    </tr>\n",
              "    <tr>\n",
              "      <th>2</th>\n",
              "      <td>1</td>\n",
              "      <td>05/08/2020</td>\n",
              "      <td>Propio</td>\n",
              "      <td>Directo en Tienda</td>\n",
              "      <td>Website</td>\n",
              "      <td>0.0</td>\n",
              "      <td>Compra</td>\n",
              "      <td>Habitual</td>\n",
              "      <td>Mujeres</td>\n",
              "      <td>Leggings</td>\n",
              "      <td>Leggings Ombre</td>\n",
              "      <td>Bottoms</td>\n",
              "      <td>36</td>\n",
              "      <td>0.02</td>\n",
              "      <td>0.09</td>\n",
              "    </tr>\n",
              "    <tr>\n",
              "      <th>3</th>\n",
              "      <td>1</td>\n",
              "      <td>05/08/2020</td>\n",
              "      <td>Propio</td>\n",
              "      <td>Directo en Tienda</td>\n",
              "      <td>Website</td>\n",
              "      <td>0.0</td>\n",
              "      <td>Compra</td>\n",
              "      <td>Habitual</td>\n",
              "      <td>Mujeres</td>\n",
              "      <td>Bra deportivo</td>\n",
              "      <td>Bra Vital sin costuras</td>\n",
              "      <td>Interior</td>\n",
              "      <td>40</td>\n",
              "      <td>0.02</td>\n",
              "      <td>0.12</td>\n",
              "    </tr>\n",
              "    <tr>\n",
              "      <th>4</th>\n",
              "      <td>1</td>\n",
              "      <td>05/08/2020</td>\n",
              "      <td>Propio</td>\n",
              "      <td>Directo en Tienda</td>\n",
              "      <td>Website</td>\n",
              "      <td>0.0</td>\n",
              "      <td>Compra</td>\n",
              "      <td>Habitual</td>\n",
              "      <td>Hombre</td>\n",
              "      <td>Camisetas</td>\n",
              "      <td>Camiseta Heather</td>\n",
              "      <td>Tops</td>\n",
              "      <td>50</td>\n",
              "      <td>0.02</td>\n",
              "      <td>0.10</td>\n",
              "    </tr>\n",
              "  </tbody>\n",
              "</table>\n",
              "</div>"
            ],
            "text/plain": [
              "   Orden       Fecha   Medio  ... Precio NFrec_Devol_V  NFrec_Devol_P\n",
              "0      1  05/08/2020  Propio  ...     40          0.02           0.10\n",
              "1      1  05/08/2020  Propio  ...     50          0.02           0.12\n",
              "2      1  05/08/2020  Propio  ...     36          0.02           0.09\n",
              "3      1  05/08/2020  Propio  ...     40          0.02           0.12\n",
              "4      1  05/08/2020  Propio  ...     50          0.02           0.10\n",
              "\n",
              "[5 rows x 15 columns]"
            ]
          },
          "metadata": {
            "tags": []
          },
          "execution_count": 8
        }
      ]
    },
    {
      "cell_type": "markdown",
      "metadata": {
        "id": "GlZZVuF3B5Zz"
      },
      "source": [
        "**Mostrando las 5 últimas filas de registros**"
      ]
    },
    {
      "cell_type": "code",
      "metadata": {
        "id": "BQUF5ySdBtJg",
        "colab": {
          "base_uri": "https://localhost:8080/",
          "height": 357
        },
        "outputId": "bf869397-b44f-4a10-a443-42406c469cf7"
      },
      "source": [
        "dataVentas.tail()"
      ],
      "execution_count": null,
      "outputs": [
        {
          "output_type": "execute_result",
          "data": {
            "text/html": [
              "<div>\n",
              "<style scoped>\n",
              "    .dataframe tbody tr th:only-of-type {\n",
              "        vertical-align: middle;\n",
              "    }\n",
              "\n",
              "    .dataframe tbody tr th {\n",
              "        vertical-align: top;\n",
              "    }\n",
              "\n",
              "    .dataframe thead th {\n",
              "        text-align: right;\n",
              "    }\n",
              "</style>\n",
              "<table border=\"1\" class=\"dataframe\">\n",
              "  <thead>\n",
              "    <tr style=\"text-align: right;\">\n",
              "      <th></th>\n",
              "      <th>Orden</th>\n",
              "      <th>Fecha</th>\n",
              "      <th>Medio</th>\n",
              "      <th>Vendedor</th>\n",
              "      <th>Plataforma</th>\n",
              "      <th>Comisión</th>\n",
              "      <th>Tipo Orden</th>\n",
              "      <th>Tipo de Cliente</th>\n",
              "      <th>Sexo</th>\n",
              "      <th>Categoría</th>\n",
              "      <th>Producto</th>\n",
              "      <th>Item</th>\n",
              "      <th>Precio</th>\n",
              "      <th>NFrec_Devol_V</th>\n",
              "      <th>NFrec_Devol_P</th>\n",
              "    </tr>\n",
              "  </thead>\n",
              "  <tbody>\n",
              "    <tr>\n",
              "      <th>63216</th>\n",
              "      <td>7500</td>\n",
              "      <td>15/03/2020</td>\n",
              "      <td>Influencer</td>\n",
              "      <td>gypseajain</td>\n",
              "      <td>Youtube</td>\n",
              "      <td>0.3</td>\n",
              "      <td>Compra</td>\n",
              "      <td>Habitual</td>\n",
              "      <td>Mujeres</td>\n",
              "      <td>Chamarras</td>\n",
              "      <td>Sudadera Cross back</td>\n",
              "      <td>Tops</td>\n",
              "      <td>46</td>\n",
              "      <td>0.0</td>\n",
              "      <td>0.12</td>\n",
              "    </tr>\n",
              "    <tr>\n",
              "      <th>63217</th>\n",
              "      <td>7500</td>\n",
              "      <td>15/03/2020</td>\n",
              "      <td>Influencer</td>\n",
              "      <td>gypseajain</td>\n",
              "      <td>Youtube</td>\n",
              "      <td>0.3</td>\n",
              "      <td>Compra</td>\n",
              "      <td>Habitual</td>\n",
              "      <td>Mujeres</td>\n",
              "      <td>Bra deportivo</td>\n",
              "      <td>Bra sin costuras</td>\n",
              "      <td>Interior</td>\n",
              "      <td>38</td>\n",
              "      <td>0.0</td>\n",
              "      <td>0.10</td>\n",
              "    </tr>\n",
              "    <tr>\n",
              "      <th>63218</th>\n",
              "      <td>7500</td>\n",
              "      <td>15/03/2020</td>\n",
              "      <td>Influencer</td>\n",
              "      <td>gypseajain</td>\n",
              "      <td>Youtube</td>\n",
              "      <td>0.3</td>\n",
              "      <td>Compra</td>\n",
              "      <td>Habitual</td>\n",
              "      <td>Hombre</td>\n",
              "      <td>Camisetas</td>\n",
              "      <td>Camiseta Living Manga Larga</td>\n",
              "      <td>Tops</td>\n",
              "      <td>40</td>\n",
              "      <td>0.0</td>\n",
              "      <td>0.10</td>\n",
              "    </tr>\n",
              "    <tr>\n",
              "      <th>63219</th>\n",
              "      <td>7500</td>\n",
              "      <td>15/03/2020</td>\n",
              "      <td>Influencer</td>\n",
              "      <td>gypseajain</td>\n",
              "      <td>Youtube</td>\n",
              "      <td>0.3</td>\n",
              "      <td>Compra</td>\n",
              "      <td>Habitual</td>\n",
              "      <td>Mujeres</td>\n",
              "      <td>Ropa Interior</td>\n",
              "      <td>Calzones Deportivos sin costuras</td>\n",
              "      <td>Interior</td>\n",
              "      <td>20</td>\n",
              "      <td>0.0</td>\n",
              "      <td>0.10</td>\n",
              "    </tr>\n",
              "    <tr>\n",
              "      <th>63220</th>\n",
              "      <td>7500</td>\n",
              "      <td>15/03/2020</td>\n",
              "      <td>Influencer</td>\n",
              "      <td>gypseajain</td>\n",
              "      <td>Youtube</td>\n",
              "      <td>0.3</td>\n",
              "      <td>Compra</td>\n",
              "      <td>Habitual</td>\n",
              "      <td>Mujeres</td>\n",
              "      <td>Chamarras</td>\n",
              "      <td>Chamarra impermeable para correr</td>\n",
              "      <td>Tops</td>\n",
              "      <td>100</td>\n",
              "      <td>0.0</td>\n",
              "      <td>0.10</td>\n",
              "    </tr>\n",
              "  </tbody>\n",
              "</table>\n",
              "</div>"
            ],
            "text/plain": [
              "       Orden       Fecha       Medio  ... Precio NFrec_Devol_V  NFrec_Devol_P\n",
              "63216   7500  15/03/2020  Influencer  ...     46           0.0           0.12\n",
              "63217   7500  15/03/2020  Influencer  ...     38           0.0           0.10\n",
              "63218   7500  15/03/2020  Influencer  ...     40           0.0           0.10\n",
              "63219   7500  15/03/2020  Influencer  ...     20           0.0           0.10\n",
              "63220   7500  15/03/2020  Influencer  ...    100           0.0           0.10\n",
              "\n",
              "[5 rows x 15 columns]"
            ]
          },
          "metadata": {
            "tags": []
          },
          "execution_count": 6
        }
      ]
    },
    {
      "cell_type": "markdown",
      "metadata": {
        "id": "5lPpTraq_RfE"
      },
      "source": [
        "**El método UNIQUE nos permite revisar datos únicos**"
      ]
    },
    {
      "cell_type": "code",
      "metadata": {
        "colab": {
          "base_uri": "https://localhost:8080/"
        },
        "id": "S5Vnmmg2_Te1",
        "outputId": "be35b2e9-cdb3-4a6c-bf05-8ea43b0c1ff9"
      },
      "source": [
        "dataVentas['Plataforma'].unique()"
      ],
      "execution_count": null,
      "outputs": [
        {
          "output_type": "execute_result",
          "data": {
            "text/plain": [
              "array(['Website', 'Facebook', 'Instagram', 'Youtube'], dtype=object)"
            ]
          },
          "metadata": {
            "tags": []
          },
          "execution_count": 144
        }
      ]
    },
    {
      "cell_type": "code",
      "metadata": {
        "colab": {
          "base_uri": "https://localhost:8080/"
        },
        "id": "VJSfoTXWAQ8K",
        "outputId": "7f4055d1-41b6-401f-c408-b9919f11e3b2"
      },
      "source": [
        "dataVentas['Tipo Orden'].unique()"
      ],
      "execution_count": null,
      "outputs": [
        {
          "output_type": "execute_result",
          "data": {
            "text/plain": [
              "array(['Compra', 'Devolucion'], dtype=object)"
            ]
          },
          "metadata": {
            "tags": []
          },
          "execution_count": 10
        }
      ]
    },
    {
      "cell_type": "code",
      "metadata": {
        "colab": {
          "base_uri": "https://localhost:8080/"
        },
        "id": "Q1M8xKX5ARaW",
        "outputId": "c6aa9088-79c4-4768-f9b5-004a24d41ed2"
      },
      "source": [
        "dataVentas['Tipo de Cliente'].unique()"
      ],
      "execution_count": null,
      "outputs": [
        {
          "output_type": "execute_result",
          "data": {
            "text/plain": [
              "array(['Habitual', 'Nuevo'], dtype=object)"
            ]
          },
          "metadata": {
            "tags": []
          },
          "execution_count": 11
        }
      ]
    },
    {
      "cell_type": "code",
      "metadata": {
        "colab": {
          "base_uri": "https://localhost:8080/"
        },
        "id": "pq8hPjwXAfXq",
        "outputId": "42693e75-a8fa-46c0-98c3-4170fcc7bc74"
      },
      "source": [
        "dataVentas['Categoría'].unique()"
      ],
      "execution_count": null,
      "outputs": [
        {
          "output_type": "execute_result",
          "data": {
            "text/plain": [
              "array(['Pantalones', 'Sudaderas', 'Leggings', 'Bra deportivo',\n",
              "       'Camisetas', 'Chamarras', 'Interior', 'Ropa Interior',\n",
              "       'Camisetas y Tops', 'Shorts', 'Calcetines'], dtype=object)"
            ]
          },
          "metadata": {
            "tags": []
          },
          "execution_count": 12
        }
      ]
    },
    {
      "cell_type": "code",
      "metadata": {
        "colab": {
          "base_uri": "https://localhost:8080/"
        },
        "id": "NAYi65yNMo74",
        "outputId": "a4ae2c6b-20aa-43c6-e37b-9524881e8440"
      },
      "source": [
        "dataVentas['Item'].unique()"
      ],
      "execution_count": null,
      "outputs": [
        {
          "output_type": "execute_result",
          "data": {
            "text/plain": [
              "array(['Bottoms', 'Tops', 'Interior'], dtype=object)"
            ]
          },
          "metadata": {
            "tags": []
          },
          "execution_count": 13
        }
      ]
    },
    {
      "cell_type": "markdown",
      "metadata": {
        "id": "C54Jy2ElH6zd"
      },
      "source": [
        "**El método \"shape\" me permite mostrar la cantidad de Atributos**"
      ]
    },
    {
      "cell_type": "code",
      "metadata": {
        "colab": {
          "base_uri": "https://localhost:8080/"
        },
        "id": "QQ3PfEdTH6YR",
        "outputId": "04032495-f4c5-48d4-b006-55d6cf4f2a9b"
      },
      "source": [
        "dataVentas.shape"
      ],
      "execution_count": null,
      "outputs": [
        {
          "output_type": "execute_result",
          "data": {
            "text/plain": [
              "(63221, 15)"
            ]
          },
          "metadata": {
            "tags": []
          },
          "execution_count": 145
        }
      ]
    },
    {
      "cell_type": "markdown",
      "metadata": {
        "id": "rVrw0kNpIQe8"
      },
      "source": [
        "**Muestro el tamaño del dataset**"
      ]
    },
    {
      "cell_type": "code",
      "metadata": {
        "colab": {
          "base_uri": "https://localhost:8080/"
        },
        "id": "XnTvbVM-IC35",
        "outputId": "9f160541-e273-4148-a8bb-16333ad0c27e"
      },
      "source": [
        "dataVentas.size"
      ],
      "execution_count": null,
      "outputs": [
        {
          "output_type": "execute_result",
          "data": {
            "text/plain": [
              "948315"
            ]
          },
          "metadata": {
            "tags": []
          },
          "execution_count": 15
        }
      ]
    },
    {
      "cell_type": "markdown",
      "metadata": {
        "id": "jUZwtSRoviBE"
      },
      "source": [
        "##**Exploración de Datos**"
      ]
    },
    {
      "cell_type": "code",
      "metadata": {
        "colab": {
          "base_uri": "https://localhost:8080/"
        },
        "id": "LLZ9tptSBftE",
        "outputId": "a14b82e5-3300-4b17-ebb2-60807fff72b5"
      },
      "source": [
        "# Contar los registros por una columna específica\n",
        "dataVentas['Plataforma'].value_counts()"
      ],
      "execution_count": null,
      "outputs": [
        {
          "output_type": "execute_result",
          "data": {
            "text/plain": [
              "Instagram    33903\n",
              "Youtube      11061\n",
              "Facebook      9725\n",
              "Website       8532\n",
              "Name: Plataforma, dtype: int64"
            ]
          },
          "metadata": {
            "tags": []
          },
          "execution_count": 16
        }
      ]
    },
    {
      "cell_type": "code",
      "metadata": {
        "colab": {
          "base_uri": "https://localhost:8080/"
        },
        "id": "ujc0iNpFBflt",
        "outputId": "6918e28a-45ce-4ea2-effe-5961fa9caa6e"
      },
      "source": [
        "dataVentas['Plataforma'].value_counts().sort_index(ascending = True)"
      ],
      "execution_count": null,
      "outputs": [
        {
          "output_type": "execute_result",
          "data": {
            "text/plain": [
              "Facebook      9725\n",
              "Instagram    33903\n",
              "Website       8532\n",
              "Youtube      11061\n",
              "Name: Plataforma, dtype: int64"
            ]
          },
          "metadata": {
            "tags": []
          },
          "execution_count": 136
        }
      ]
    },
    {
      "cell_type": "code",
      "metadata": {
        "colab": {
          "base_uri": "https://localhost:8080/"
        },
        "id": "kxuyTqEqBjho",
        "outputId": "8b61a19a-276c-40c7-94a5-6f6d91441e4d"
      },
      "source": [
        "# Contar los registros por una columna específica\n",
        "dataVentas['Categoría'].value_counts()"
      ],
      "execution_count": null,
      "outputs": [
        {
          "output_type": "execute_result",
          "data": {
            "text/plain": [
              "Pantalones          8067\n",
              "Leggings            7772\n",
              "Chamarras           7445\n",
              "Interior            7233\n",
              "Sudaderas           7010\n",
              "Camisetas y Tops    6412\n",
              "Bra deportivo       5885\n",
              "Camisetas           4374\n",
              "Shorts              3656\n",
              "Ropa Interior       3127\n",
              "Calcetines          2240\n",
              "Name: Categoría, dtype: int64"
            ]
          },
          "metadata": {
            "tags": []
          },
          "execution_count": 18
        }
      ]
    },
    {
      "cell_type": "code",
      "metadata": {
        "colab": {
          "base_uri": "https://localhost:8080/"
        },
        "id": "kYHweZt6BjXR",
        "outputId": "433b81e8-7830-4a62-d10f-877ac7e9723d"
      },
      "source": [
        "dataVentas['Categoría'].value_counts().sort_index(ascending = True)"
      ],
      "execution_count": null,
      "outputs": [
        {
          "output_type": "execute_result",
          "data": {
            "text/plain": [
              "Bra deportivo       5885\n",
              "Calcetines          2240\n",
              "Camisetas           4374\n",
              "Camisetas y Tops    6412\n",
              "Chamarras           7445\n",
              "Interior            7233\n",
              "Leggings            7772\n",
              "Pantalones          8067\n",
              "Ropa Interior       3127\n",
              "Shorts              3656\n",
              "Sudaderas           7010\n",
              "Name: Categoría, dtype: int64"
            ]
          },
          "metadata": {
            "tags": []
          },
          "execution_count": 135
        }
      ]
    },
    {
      "cell_type": "code",
      "metadata": {
        "colab": {
          "base_uri": "https://localhost:8080/"
        },
        "id": "LJuq034iBy--",
        "outputId": "eb737293-e282-4b67-bc39-6d6b3f4347ac"
      },
      "source": [
        "dataVentas['Tipo Orden'].value_counts().sort_index(ascending = True)"
      ],
      "execution_count": null,
      "outputs": [
        {
          "output_type": "execute_result",
          "data": {
            "text/plain": [
              "Compra        57540\n",
              "Devolucion     5681\n",
              "Name: Tipo Orden, dtype: int64"
            ]
          },
          "metadata": {
            "tags": []
          },
          "execution_count": 134
        }
      ]
    },
    {
      "cell_type": "code",
      "metadata": {
        "colab": {
          "base_uri": "https://localhost:8080/"
        },
        "id": "IfwTmHAdBy3l",
        "outputId": "759892e7-1f16-40f4-8458-78bc02e16a9e"
      },
      "source": [
        "dataVentas[['Plataforma','Tipo Orden']].value_counts()"
      ],
      "execution_count": null,
      "outputs": [
        {
          "output_type": "execute_result",
          "data": {
            "text/plain": [
              "Plataforma  Tipo Orden\n",
              "Instagram   Compra        29734\n",
              "Youtube     Compra        10508\n",
              "Facebook    Compra         8955\n",
              "Website     Compra         8343\n",
              "Instagram   Devolucion     4169\n",
              "Facebook    Devolucion      770\n",
              "Youtube     Devolucion      553\n",
              "Website     Devolucion      189\n",
              "dtype: int64"
            ]
          },
          "metadata": {
            "tags": []
          },
          "execution_count": 133
        }
      ]
    },
    {
      "cell_type": "markdown",
      "metadata": {
        "id": "7c8NXY4AA9a3"
      },
      "source": [
        "##**Realizando Gráficos circulares y de barras**"
      ]
    },
    {
      "cell_type": "markdown",
      "metadata": {
        "id": "JhBt6ptIMBMB"
      },
      "source": [
        "**Gráfico circular o de pastel según la plataforma utilizada para las ventas**"
      ]
    },
    {
      "cell_type": "code",
      "metadata": {
        "id": "1MHnuTWJe2Mj"
      },
      "source": [
        "plataformalabels = ['Facebook', 'Instagram', 'Website','Youtube']\n",
        "size = [9725, 33903, 8532, 11061]\n",
        "explode = [0, 0, 0, 0]"
      ],
      "execution_count": null,
      "outputs": []
    },
    {
      "cell_type": "markdown",
      "metadata": {
        "id": "_L_x0KZWgKdr"
      },
      "source": [
        "El método legend me permite agregar una legenda y especificar su localización (loc = above, down, left, right, center, best (la posición mejor))."
      ]
    },
    {
      "cell_type": "code",
      "metadata": {
        "colab": {
          "base_uri": "https://localhost:8080/",
          "height": 262
        },
        "id": "ZxmDN5oodgBB",
        "outputId": "cf286dab-b079-4f14-a0ce-e1c72120168b"
      },
      "source": [
        "plt.pie(size, labels = plataformalabels, explode = explode, shadow = True, autopct = '%.2f%%')\n",
        "plt.title('Plataforma de ventas', fontsize = 10)\n",
        "plt.axis('off')\n",
        "plt.legend(loc = 'best')\n",
        "plt.show()"
      ],
      "execution_count": null,
      "outputs": [
        {
          "output_type": "display_data",
          "data": {
            "image/png": "[encoded data removed]",
            "text/plain": [
              "<Figure size 432x288 with 1 Axes>"
            ]
          },
          "metadata": {
            "tags": []
          }
        }
      ]
    },
    {
      "cell_type": "code",
      "metadata": {
        "colab": {
          "base_uri": "https://localhost:8080/",
          "height": 296
        },
        "id": "UytOdwQFaB8h",
        "outputId": "88c5fa5a-a219-4890-df01-47b02233f49c"
      },
      "source": [
        "sns.histplot(dataVentas, x = 'Plataforma', hue='Tipo Orden')"
      ],
      "execution_count": null,
      "outputs": [
        {
          "output_type": "execute_result",
          "data": {
            "text/plain": [
              "<matplotlib.axes._subplots.AxesSubplot at 0x7f4be90e9a90>"
            ]
          },
          "metadata": {
            "tags": []
          },
          "execution_count": 120
        },
        {
          "output_type": "display_data",
          "data": {
            "image/png": "[encoded data removed]",
            "text/plain": [
              "<Figure size 432x288 with 1 Axes>"
            ]
          },
          "metadata": {
            "tags": [],
            "needs_background": "light"
          }
        }
      ]
    },
    {
      "cell_type": "code",
      "metadata": {
        "colab": {
          "base_uri": "https://localhost:8080/",
          "height": 298
        },
        "id": "eplRj64rTv7e",
        "outputId": "d67223aa-6d9a-4cac-d783-0144b0bbba63"
      },
      "source": [
        "sns.histplot(dataVentas, x = 'Plataforma', hue='Tipo de Cliente', alpha=0.60)"
      ],
      "execution_count": null,
      "outputs": [
        {
          "output_type": "execute_result",
          "data": {
            "text/plain": [
              "<matplotlib.axes._subplots.AxesSubplot at 0x7f4be8dfbf90>"
            ]
          },
          "metadata": {
            "tags": []
          },
          "execution_count": 127
        },
        {
          "output_type": "display_data",
          "data": {
            "image/png": "[encoded data removed]",
            "text/plain": [
              "<Figure size 432x288 with 1 Axes>"
            ]
          },
          "metadata": {
            "tags": [],
            "needs_background": "light"
          }
        }
      ]
    },
    {
      "cell_type": "code",
      "metadata": {
        "colab": {
          "base_uri": "https://localhost:8080/",
          "height": 296
        },
        "id": "ZHbdDcobdVll",
        "outputId": "023ec974-cd52-462f-af75-2330f9b4a7a5"
      },
      "source": [
        "sns.histplot(dataVentas, x = 'Medio', hue='Tipo Orden', alpha=0.50)"
      ],
      "execution_count": null,
      "outputs": [
        {
          "output_type": "execute_result",
          "data": {
            "text/plain": [
              "<matplotlib.axes._subplots.AxesSubplot at 0x7f4be8b5f5d0>"
            ]
          },
          "metadata": {
            "tags": []
          },
          "execution_count": 132
        },
        {
          "output_type": "display_data",
          "data": {
            "image/png": "[encoded data removed]",
            "text/plain": [
              "<Figure size 432x288 with 1 Axes>"
            ]
          },
          "metadata": {
            "tags": [],
            "needs_background": "light"
          }
        }
      ]
    },
    {
      "cell_type": "code",
      "metadata": {
        "colab": {
          "base_uri": "https://localhost:8080/",
          "height": 299
        },
        "id": "Sev8n2TmedWv",
        "outputId": "d75df37c-bb52-4ba0-e6a5-44ecb72c5ced"
      },
      "source": [
        "sns.histplot(dataVentas, x = 'Tipo Orden')"
      ],
      "execution_count": null,
      "outputs": [
        {
          "output_type": "execute_result",
          "data": {
            "text/plain": [
              "<matplotlib.axes._subplots.AxesSubplot at 0x7f4be89d5d90>"
            ]
          },
          "metadata": {
            "tags": []
          },
          "execution_count": 140
        },
        {
          "output_type": "display_data",
          "data": {
            "image/png": "[encoded data removed]",
            "text/plain": [
              "<Figure size 432x288 with 1 Axes>"
            ]
          },
          "metadata": {
            "tags": [],
            "needs_background": "light"
          }
        }
      ]
    },
    {
      "cell_type": "markdown",
      "metadata": {
        "id": "DQNZszA8MNgN"
      },
      "source": [
        "**Gráfico de barras según la categoría del producto**"
      ]
    },
    {
      "cell_type": "code",
      "metadata": {
        "colab": {
          "base_uri": "https://localhost:8080/",
          "height": 389
        },
        "id": "KoRoV4QzL8BW",
        "outputId": "2bb7320d-78db-433c-8ee9-25a863347944"
      },
      "source": [
        "categoria.plot(kind = 'bar')\n",
        "plt.xlabel('Categoría')\n",
        "plt.ylabel('Cantidad de registros')\n",
        "plt.title('Registros según Categoría')"
      ],
      "execution_count": null,
      "outputs": [
        {
          "output_type": "execute_result",
          "data": {
            "text/plain": [
              "Text(0.5, 1.0, 'Registros según Categoría')"
            ]
          },
          "metadata": {
            "tags": []
          },
          "execution_count": 147
        },
        {
          "output_type": "display_data",
          "data": {
            "image/png": "[encoded data removed]",
            "text/plain": [
              "<Figure size 432x288 with 1 Axes>"
            ]
          },
          "metadata": {
            "tags": [],
            "needs_background": "light"
          }
        }
      ]
    },
    {
      "cell_type": "markdown",
      "metadata": {
        "id": "B_LcEjSHKQ9k"
      },
      "source": [
        "##**Limpieza del DataSet**"
      ]
    },
    {
      "cell_type": "markdown",
      "metadata": {
        "id": "l0nSL3VBF3dr"
      },
      "source": [
        "**Mostrando las columnas del dataset**"
      ]
    },
    {
      "cell_type": "code",
      "metadata": {
        "colab": {
          "base_uri": "https://localhost:8080/"
        },
        "id": "Ep5_or0PFt-u",
        "outputId": "f7a0ec55-1bb4-4a7e-ee33-5a9abcad4216"
      },
      "source": [
        "dataVentas.columns"
      ],
      "execution_count": null,
      "outputs": [
        {
          "output_type": "execute_result",
          "data": {
            "text/plain": [
              "Index(['Orden', 'Fecha', 'Medio', 'Vendedor', 'Plataforma', 'Comisión',\n",
              "       'Tipo Orden', 'Tipo de Cliente', 'Sexo', 'Categoría', 'Producto',\n",
              "       'Item', 'Precio', 'NFrec_Devol_V', 'NFrec_Devol_P'],\n",
              "      dtype='object')"
            ]
          },
          "metadata": {
            "tags": []
          },
          "execution_count": 26
        }
      ]
    },
    {
      "cell_type": "markdown",
      "metadata": {
        "id": "3kLrg_tUI0F9"
      },
      "source": [
        "**Descartando columnas no relevantes del DataSet**"
      ]
    },
    {
      "cell_type": "code",
      "metadata": {
        "id": "S__PJg_zWmOb"
      },
      "source": [
        "dataVentas1 = dataVentas.drop(columns=['Orden','Fecha','Producto','Categoría','Vendedor','Sexo'])"
      ],
      "execution_count": null,
      "outputs": []
    },
    {
      "cell_type": "code",
      "metadata": {
        "colab": {
          "base_uri": "https://localhost:8080/",
          "height": 419
        },
        "id": "E2agnlDrWwgD",
        "outputId": "3a67f5e9-b489-4a33-e137-4ea9ebba623d"
      },
      "source": [
        "dataVentas1"
      ],
      "execution_count": null,
      "outputs": [
        {
          "output_type": "execute_result",
          "data": {
            "text/html": [
              "<div>\n",
              "<style scoped>\n",
              "    .dataframe tbody tr th:only-of-type {\n",
              "        vertical-align: middle;\n",
              "    }\n",
              "\n",
              "    .dataframe tbody tr th {\n",
              "        vertical-align: top;\n",
              "    }\n",
              "\n",
              "    .dataframe thead th {\n",
              "        text-align: right;\n",
              "    }\n",
              "</style>\n",
              "<table border=\"1\" class=\"dataframe\">\n",
              "  <thead>\n",
              "    <tr style=\"text-align: right;\">\n",
              "      <th></th>\n",
              "      <th>Medio</th>\n",
              "      <th>Plataforma</th>\n",
              "      <th>Comisión</th>\n",
              "      <th>Tipo Orden</th>\n",
              "      <th>Tipo de Cliente</th>\n",
              "      <th>Item</th>\n",
              "      <th>Precio</th>\n",
              "      <th>NFrec_Devol_V</th>\n",
              "      <th>NFrec_Devol_P</th>\n",
              "    </tr>\n",
              "  </thead>\n",
              "  <tbody>\n",
              "    <tr>\n",
              "      <th>0</th>\n",
              "      <td>Propio</td>\n",
              "      <td>Website</td>\n",
              "      <td>0.0</td>\n",
              "      <td>Compra</td>\n",
              "      <td>Habitual</td>\n",
              "      <td>Bottoms</td>\n",
              "      <td>40</td>\n",
              "      <td>0.02</td>\n",
              "      <td>0.10</td>\n",
              "    </tr>\n",
              "    <tr>\n",
              "      <th>1</th>\n",
              "      <td>Propio</td>\n",
              "      <td>Website</td>\n",
              "      <td>0.0</td>\n",
              "      <td>Compra</td>\n",
              "      <td>Habitual</td>\n",
              "      <td>Tops</td>\n",
              "      <td>50</td>\n",
              "      <td>0.02</td>\n",
              "      <td>0.12</td>\n",
              "    </tr>\n",
              "    <tr>\n",
              "      <th>2</th>\n",
              "      <td>Propio</td>\n",
              "      <td>Website</td>\n",
              "      <td>0.0</td>\n",
              "      <td>Compra</td>\n",
              "      <td>Habitual</td>\n",
              "      <td>Bottoms</td>\n",
              "      <td>36</td>\n",
              "      <td>0.02</td>\n",
              "      <td>0.09</td>\n",
              "    </tr>\n",
              "    <tr>\n",
              "      <th>3</th>\n",
              "      <td>Propio</td>\n",
              "      <td>Website</td>\n",
              "      <td>0.0</td>\n",
              "      <td>Compra</td>\n",
              "      <td>Habitual</td>\n",
              "      <td>Interior</td>\n",
              "      <td>40</td>\n",
              "      <td>0.02</td>\n",
              "      <td>0.12</td>\n",
              "    </tr>\n",
              "    <tr>\n",
              "      <th>4</th>\n",
              "      <td>Propio</td>\n",
              "      <td>Website</td>\n",
              "      <td>0.0</td>\n",
              "      <td>Compra</td>\n",
              "      <td>Habitual</td>\n",
              "      <td>Tops</td>\n",
              "      <td>50</td>\n",
              "      <td>0.02</td>\n",
              "      <td>0.10</td>\n",
              "    </tr>\n",
              "    <tr>\n",
              "      <th>...</th>\n",
              "      <td>...</td>\n",
              "      <td>...</td>\n",
              "      <td>...</td>\n",
              "      <td>...</td>\n",
              "      <td>...</td>\n",
              "      <td>...</td>\n",
              "      <td>...</td>\n",
              "      <td>...</td>\n",
              "      <td>...</td>\n",
              "    </tr>\n",
              "    <tr>\n",
              "      <th>63216</th>\n",
              "      <td>Influencer</td>\n",
              "      <td>Youtube</td>\n",
              "      <td>0.3</td>\n",
              "      <td>Compra</td>\n",
              "      <td>Habitual</td>\n",
              "      <td>Tops</td>\n",
              "      <td>46</td>\n",
              "      <td>0.00</td>\n",
              "      <td>0.12</td>\n",
              "    </tr>\n",
              "    <tr>\n",
              "      <th>63217</th>\n",
              "      <td>Influencer</td>\n",
              "      <td>Youtube</td>\n",
              "      <td>0.3</td>\n",
              "      <td>Compra</td>\n",
              "      <td>Habitual</td>\n",
              "      <td>Interior</td>\n",
              "      <td>38</td>\n",
              "      <td>0.00</td>\n",
              "      <td>0.10</td>\n",
              "    </tr>\n",
              "    <tr>\n",
              "      <th>63218</th>\n",
              "      <td>Influencer</td>\n",
              "      <td>Youtube</td>\n",
              "      <td>0.3</td>\n",
              "      <td>Compra</td>\n",
              "      <td>Habitual</td>\n",
              "      <td>Tops</td>\n",
              "      <td>40</td>\n",
              "      <td>0.00</td>\n",
              "      <td>0.10</td>\n",
              "    </tr>\n",
              "    <tr>\n",
              "      <th>63219</th>\n",
              "      <td>Influencer</td>\n",
              "      <td>Youtube</td>\n",
              "      <td>0.3</td>\n",
              "      <td>Compra</td>\n",
              "      <td>Habitual</td>\n",
              "      <td>Interior</td>\n",
              "      <td>20</td>\n",
              "      <td>0.00</td>\n",
              "      <td>0.10</td>\n",
              "    </tr>\n",
              "    <tr>\n",
              "      <th>63220</th>\n",
              "      <td>Influencer</td>\n",
              "      <td>Youtube</td>\n",
              "      <td>0.3</td>\n",
              "      <td>Compra</td>\n",
              "      <td>Habitual</td>\n",
              "      <td>Tops</td>\n",
              "      <td>100</td>\n",
              "      <td>0.00</td>\n",
              "      <td>0.10</td>\n",
              "    </tr>\n",
              "  </tbody>\n",
              "</table>\n",
              "<p>63221 rows × 9 columns</p>\n",
              "</div>"
            ],
            "text/plain": [
              "            Medio Plataforma  Comisión  ... Precio NFrec_Devol_V NFrec_Devol_P\n",
              "0          Propio    Website       0.0  ...     40          0.02          0.10\n",
              "1          Propio    Website       0.0  ...     50          0.02          0.12\n",
              "2          Propio    Website       0.0  ...     36          0.02          0.09\n",
              "3          Propio    Website       0.0  ...     40          0.02          0.12\n",
              "4          Propio    Website       0.0  ...     50          0.02          0.10\n",
              "...           ...        ...       ...  ...    ...           ...           ...\n",
              "63216  Influencer    Youtube       0.3  ...     46          0.00          0.12\n",
              "63217  Influencer    Youtube       0.3  ...     38          0.00          0.10\n",
              "63218  Influencer    Youtube       0.3  ...     40          0.00          0.10\n",
              "63219  Influencer    Youtube       0.3  ...     20          0.00          0.10\n",
              "63220  Influencer    Youtube       0.3  ...    100          0.00          0.10\n",
              "\n",
              "[63221 rows x 9 columns]"
            ]
          },
          "metadata": {
            "tags": []
          },
          "execution_count": 28
        }
      ]
    },
    {
      "cell_type": "code",
      "metadata": {
        "colab": {
          "base_uri": "https://localhost:8080/"
        },
        "id": "CaJskx6CW2yN",
        "outputId": "269cdec6-e646-4744-efa7-b2bf16d0e27c"
      },
      "source": [
        "dataVentas1.info()"
      ],
      "execution_count": null,
      "outputs": [
        {
          "output_type": "stream",
          "text": [
            "<class 'pandas.core.frame.DataFrame'>\n",
            "RangeIndex: 63221 entries, 0 to 63220\n",
            "Data columns (total 9 columns):\n",
            " #   Column           Non-Null Count  Dtype  \n",
            "---  ------           --------------  -----  \n",
            " 0   Medio            63221 non-null  object \n",
            " 1   Plataforma       63221 non-null  object \n",
            " 2   Comisión         63221 non-null  float64\n",
            " 3   Tipo Orden       63221 non-null  object \n",
            " 4   Tipo de Cliente  63221 non-null  object \n",
            " 5   Item             63221 non-null  object \n",
            " 6   Precio           63221 non-null  int64  \n",
            " 7   NFrec_Devol_V    63221 non-null  float64\n",
            " 8   NFrec_Devol_P    63221 non-null  float64\n",
            "dtypes: float64(3), int64(1), object(5)\n",
            "memory usage: 4.3+ MB\n"
          ],
          "name": "stdout"
        }
      ]
    },
    {
      "cell_type": "markdown",
      "metadata": {
        "id": "7yJzqxoNnTXn"
      },
      "source": [
        "##**Clasificando la frecuencia de Devolución por Producto**\n",
        "\n",
        "En esta sección estamos clasificando los valores de frecuencia de devolución de los productos."
      ]
    },
    {
      "cell_type": "markdown",
      "metadata": {
        "id": "VaSy5KeTaHmS"
      },
      "source": [
        "**Agregando columna nueva Frec_Devol_P**"
      ]
    },
    {
      "cell_type": "code",
      "metadata": {
        "id": "L01_GI8-f-jE"
      },
      "source": [
        "#De mayor a menor\n",
        "def CondFrec(valor):\n",
        "    valor = float(valor.NFrec_Devol_P)\n",
        "    if valor == 0:\n",
        "        return 'Nunca'\n",
        "    elif 0.01 <= valor <= 0.25:\n",
        "        return 'Rara vez'\n",
        "    elif 0.26 <= valor <= 0.50:\n",
        "        return 'A menudo'\n",
        "    elif 0.51 <= valor <= 0.75:\n",
        "        return 'Usualmente'\n",
        "    elif 0.76 <= valor <= 1:\n",
        "        return 'Siempre'\n",
        "    else:\n",
        "        return 'Error'"
      ],
      "execution_count": null,
      "outputs": []
    },
    {
      "cell_type": "code",
      "metadata": {
        "id": "ZghcQDVNm66W"
      },
      "source": [
        "#Renombrando dataVentas a df\n",
        "df = pd.DataFrame(dataVentas1)\n",
        "df['Frec_Devol_P'] = df.apply(CondFrec, axis=1)"
      ],
      "execution_count": null,
      "outputs": []
    },
    {
      "cell_type": "code",
      "metadata": {
        "colab": {
          "base_uri": "https://localhost:8080/",
          "height": 359
        },
        "id": "JCHGZgecfmIK",
        "outputId": "4fd48740-7715-4e12-aa95-07af347c3845"
      },
      "source": [
        "df.sample(10)"
      ],
      "execution_count": null,
      "outputs": [
        {
          "output_type": "execute_result",
          "data": {
            "text/html": [
              "<div>\n",
              "<style scoped>\n",
              "    .dataframe tbody tr th:only-of-type {\n",
              "        vertical-align: middle;\n",
              "    }\n",
              "\n",
              "    .dataframe tbody tr th {\n",
              "        vertical-align: top;\n",
              "    }\n",
              "\n",
              "    .dataframe thead th {\n",
              "        text-align: right;\n",
              "    }\n",
              "</style>\n",
              "<table border=\"1\" class=\"dataframe\">\n",
              "  <thead>\n",
              "    <tr style=\"text-align: right;\">\n",
              "      <th></th>\n",
              "      <th>Medio</th>\n",
              "      <th>Plataforma</th>\n",
              "      <th>Comisión</th>\n",
              "      <th>Tipo Orden</th>\n",
              "      <th>Tipo de Cliente</th>\n",
              "      <th>Item</th>\n",
              "      <th>Precio</th>\n",
              "      <th>NFrec_Devol_V</th>\n",
              "      <th>NFrec_Devol_P</th>\n",
              "      <th>Frec_Devol_P</th>\n",
              "    </tr>\n",
              "  </thead>\n",
              "  <tbody>\n",
              "    <tr>\n",
              "      <th>30080</th>\n",
              "      <td>Propio</td>\n",
              "      <td>Instagram</td>\n",
              "      <td>0.0</td>\n",
              "      <td>Compra</td>\n",
              "      <td>Habitual</td>\n",
              "      <td>Tops</td>\n",
              "      <td>28</td>\n",
              "      <td>0.06</td>\n",
              "      <td>0.09</td>\n",
              "      <td>Rara vez</td>\n",
              "    </tr>\n",
              "    <tr>\n",
              "      <th>37221</th>\n",
              "      <td>Propio</td>\n",
              "      <td>Website</td>\n",
              "      <td>0.0</td>\n",
              "      <td>Compra</td>\n",
              "      <td>Habitual</td>\n",
              "      <td>Bottoms</td>\n",
              "      <td>26</td>\n",
              "      <td>0.02</td>\n",
              "      <td>0.11</td>\n",
              "      <td>Rara vez</td>\n",
              "    </tr>\n",
              "    <tr>\n",
              "      <th>14861</th>\n",
              "      <td>Propio</td>\n",
              "      <td>Website</td>\n",
              "      <td>0.0</td>\n",
              "      <td>Compra</td>\n",
              "      <td>Habitual</td>\n",
              "      <td>Tops</td>\n",
              "      <td>28</td>\n",
              "      <td>0.02</td>\n",
              "      <td>0.09</td>\n",
              "      <td>Rara vez</td>\n",
              "    </tr>\n",
              "    <tr>\n",
              "      <th>3876</th>\n",
              "      <td>Influencer</td>\n",
              "      <td>Instagram</td>\n",
              "      <td>0.3</td>\n",
              "      <td>Compra</td>\n",
              "      <td>Habitual</td>\n",
              "      <td>Tops</td>\n",
              "      <td>48</td>\n",
              "      <td>0.02</td>\n",
              "      <td>0.09</td>\n",
              "      <td>Rara vez</td>\n",
              "    </tr>\n",
              "    <tr>\n",
              "      <th>16683</th>\n",
              "      <td>Influencer</td>\n",
              "      <td>Facebook</td>\n",
              "      <td>0.3</td>\n",
              "      <td>Compra</td>\n",
              "      <td>Nuevo</td>\n",
              "      <td>Tops</td>\n",
              "      <td>28</td>\n",
              "      <td>0.18</td>\n",
              "      <td>0.10</td>\n",
              "      <td>Rara vez</td>\n",
              "    </tr>\n",
              "    <tr>\n",
              "      <th>4603</th>\n",
              "      <td>Propio</td>\n",
              "      <td>Website</td>\n",
              "      <td>0.0</td>\n",
              "      <td>Compra</td>\n",
              "      <td>Habitual</td>\n",
              "      <td>Tops</td>\n",
              "      <td>46</td>\n",
              "      <td>0.02</td>\n",
              "      <td>0.12</td>\n",
              "      <td>Rara vez</td>\n",
              "    </tr>\n",
              "    <tr>\n",
              "      <th>15042</th>\n",
              "      <td>Influencer</td>\n",
              "      <td>Youtube</td>\n",
              "      <td>0.2</td>\n",
              "      <td>Compra</td>\n",
              "      <td>Habitual</td>\n",
              "      <td>Bottoms</td>\n",
              "      <td>40</td>\n",
              "      <td>0.05</td>\n",
              "      <td>0.07</td>\n",
              "      <td>Rara vez</td>\n",
              "    </tr>\n",
              "    <tr>\n",
              "      <th>52592</th>\n",
              "      <td>Influencer</td>\n",
              "      <td>Youtube</td>\n",
              "      <td>0.3</td>\n",
              "      <td>Compra</td>\n",
              "      <td>Habitual</td>\n",
              "      <td>Interior</td>\n",
              "      <td>40</td>\n",
              "      <td>0.01</td>\n",
              "      <td>0.12</td>\n",
              "      <td>Rara vez</td>\n",
              "    </tr>\n",
              "    <tr>\n",
              "      <th>20378</th>\n",
              "      <td>Influencer</td>\n",
              "      <td>Youtube</td>\n",
              "      <td>0.2</td>\n",
              "      <td>Compra</td>\n",
              "      <td>Habitual</td>\n",
              "      <td>Tops</td>\n",
              "      <td>42</td>\n",
              "      <td>0.05</td>\n",
              "      <td>0.10</td>\n",
              "      <td>Rara vez</td>\n",
              "    </tr>\n",
              "    <tr>\n",
              "      <th>41061</th>\n",
              "      <td>Propio</td>\n",
              "      <td>Website</td>\n",
              "      <td>0.0</td>\n",
              "      <td>Compra</td>\n",
              "      <td>Habitual</td>\n",
              "      <td>Interior</td>\n",
              "      <td>15</td>\n",
              "      <td>0.02</td>\n",
              "      <td>0.09</td>\n",
              "      <td>Rara vez</td>\n",
              "    </tr>\n",
              "  </tbody>\n",
              "</table>\n",
              "</div>"
            ],
            "text/plain": [
              "            Medio Plataforma  ...  NFrec_Devol_P Frec_Devol_P\n",
              "30080      Propio  Instagram  ...           0.09     Rara vez\n",
              "37221      Propio    Website  ...           0.11     Rara vez\n",
              "14861      Propio    Website  ...           0.09     Rara vez\n",
              "3876   Influencer  Instagram  ...           0.09     Rara vez\n",
              "16683  Influencer   Facebook  ...           0.10     Rara vez\n",
              "4603       Propio    Website  ...           0.12     Rara vez\n",
              "15042  Influencer    Youtube  ...           0.07     Rara vez\n",
              "52592  Influencer    Youtube  ...           0.12     Rara vez\n",
              "20378  Influencer    Youtube  ...           0.10     Rara vez\n",
              "41061      Propio    Website  ...           0.09     Rara vez\n",
              "\n",
              "[10 rows x 10 columns]"
            ]
          },
          "metadata": {
            "tags": []
          },
          "execution_count": 32
        }
      ]
    },
    {
      "cell_type": "code",
      "metadata": {
        "colab": {
          "base_uri": "https://localhost:8080/"
        },
        "id": "ezjNyKeIfO98",
        "outputId": "76486687-db8a-40fe-f2cd-2134fc4a194a"
      },
      "source": [
        "df['Frec_Devol_P'].unique()"
      ],
      "execution_count": null,
      "outputs": [
        {
          "output_type": "execute_result",
          "data": {
            "text/plain": [
              "array(['Rara vez'], dtype=object)"
            ]
          },
          "metadata": {
            "tags": []
          },
          "execution_count": 151
        }
      ]
    },
    {
      "cell_type": "code",
      "metadata": {
        "id": "te91miZKTMfD"
      },
      "source": [
        "dataVentas2 = df.drop(columns=['Frec_Devol_P','NFrec_Devol_P'])"
      ],
      "execution_count": null,
      "outputs": []
    },
    {
      "cell_type": "code",
      "metadata": {
        "colab": {
          "base_uri": "https://localhost:8080/"
        },
        "id": "f-_CRgzeTZzL",
        "outputId": "0515c200-eb03-439c-b672-78ff63215e1f"
      },
      "source": [
        "dataVentas2.info()"
      ],
      "execution_count": null,
      "outputs": [
        {
          "output_type": "stream",
          "text": [
            "<class 'pandas.core.frame.DataFrame'>\n",
            "RangeIndex: 63221 entries, 0 to 63220\n",
            "Data columns (total 8 columns):\n",
            " #   Column           Non-Null Count  Dtype  \n",
            "---  ------           --------------  -----  \n",
            " 0   Medio            63221 non-null  object \n",
            " 1   Plataforma       63221 non-null  object \n",
            " 2   Comisión         63221 non-null  float64\n",
            " 3   Tipo Orden       63221 non-null  object \n",
            " 4   Tipo de Cliente  63221 non-null  object \n",
            " 5   Item             63221 non-null  object \n",
            " 6   Precio           63221 non-null  int64  \n",
            " 7   NFrec_Devol_V    63221 non-null  float64\n",
            "dtypes: float64(2), int64(1), object(5)\n",
            "memory usage: 3.9+ MB\n"
          ],
          "name": "stdout"
        }
      ]
    },
    {
      "cell_type": "markdown",
      "metadata": {
        "id": "qsqV-c5AljPB"
      },
      "source": [
        "**Debido a que los valores de la nueva columna: \"Frec_Devol_P\" se encuentra en el intervalo \"Rara vez\": [0.01; 0.25], consideramos que la frecuencia devolución por producto no es significativa para el trabajo.** "
      ]
    },
    {
      "cell_type": "markdown",
      "metadata": {
        "id": "ZdY-YSnznHab"
      },
      "source": [
        "##**Clasificando la frecuencia de Devolución por Vendedor**\n",
        "\n",
        "En esta sección estamos clasificando los valores de frecuencia de devolución por vendedor."
      ]
    },
    {
      "cell_type": "code",
      "metadata": {
        "id": "ZAAdYu9RW2jU"
      },
      "source": [
        "#De mayor a menor\n",
        "def CondFrecV(valor):\n",
        "    valor = float(valor.NFrec_Devol_V)\n",
        "    if valor == 0:\n",
        "        #Nunca\n",
        "        return 0\n",
        "    elif 0.01 <= valor <= 0.25:\n",
        "        #Rara vez\n",
        "        return 1\n",
        "    elif 0.26 <= valor <= 0.50:\n",
        "        #A menudo\n",
        "        return 2\n",
        "    elif 0.51 <= valor <= 0.75:\n",
        "        #Usualmente\n",
        "        return 3\n",
        "    elif 0.76 <= valor <= 1:\n",
        "        #Casi Siempre\n",
        "        return 4\n",
        "    else:\n",
        "        return 5\n"
      ],
      "execution_count": null,
      "outputs": []
    },
    {
      "cell_type": "code",
      "metadata": {
        "id": "NqHNM7vnnYee"
      },
      "source": [
        "#Renombrando dataVentas a df\n",
        "dff = pd.DataFrame(dataVentas2)\n",
        "dff['Frec_Devol_V'] = dataVentas2.apply(CondFrecV, axis=1)"
      ],
      "execution_count": null,
      "outputs": []
    },
    {
      "cell_type": "code",
      "metadata": {
        "id": "8V0LsbZCc1en"
      },
      "source": [
        "# Eliminamos la columna del num de frecuencias\n",
        "dff2 = dff.drop(columns=['NFrec_Devol_V'])"
      ],
      "execution_count": null,
      "outputs": []
    },
    {
      "cell_type": "code",
      "metadata": {
        "colab": {
          "base_uri": "https://localhost:8080/",
          "height": 359
        },
        "id": "qaJWA2k6nq0m",
        "outputId": "ef48bff3-a8ea-40e5-dcd7-00edcf9ad27b"
      },
      "source": [
        "dff2.sample(10)"
      ],
      "execution_count": null,
      "outputs": [
        {
          "output_type": "execute_result",
          "data": {
            "text/html": [
              "<div>\n",
              "<style scoped>\n",
              "    .dataframe tbody tr th:only-of-type {\n",
              "        vertical-align: middle;\n",
              "    }\n",
              "\n",
              "    .dataframe tbody tr th {\n",
              "        vertical-align: top;\n",
              "    }\n",
              "\n",
              "    .dataframe thead th {\n",
              "        text-align: right;\n",
              "    }\n",
              "</style>\n",
              "<table border=\"1\" class=\"dataframe\">\n",
              "  <thead>\n",
              "    <tr style=\"text-align: right;\">\n",
              "      <th></th>\n",
              "      <th>Medio</th>\n",
              "      <th>Plataforma</th>\n",
              "      <th>Comisión</th>\n",
              "      <th>Tipo Orden</th>\n",
              "      <th>Tipo de Cliente</th>\n",
              "      <th>Item</th>\n",
              "      <th>Precio</th>\n",
              "      <th>Frec_Devol_V</th>\n",
              "    </tr>\n",
              "  </thead>\n",
              "  <tbody>\n",
              "    <tr>\n",
              "      <th>14685</th>\n",
              "      <td>Influencer</td>\n",
              "      <td>Youtube</td>\n",
              "      <td>0.1</td>\n",
              "      <td>Compra</td>\n",
              "      <td>Nuevo</td>\n",
              "      <td>Interior</td>\n",
              "      <td>35</td>\n",
              "      <td>1</td>\n",
              "    </tr>\n",
              "    <tr>\n",
              "      <th>19225</th>\n",
              "      <td>Influencer</td>\n",
              "      <td>Instagram</td>\n",
              "      <td>0.3</td>\n",
              "      <td>Compra</td>\n",
              "      <td>Nuevo</td>\n",
              "      <td>Tops</td>\n",
              "      <td>30</td>\n",
              "      <td>1</td>\n",
              "    </tr>\n",
              "    <tr>\n",
              "      <th>32446</th>\n",
              "      <td>Influencer</td>\n",
              "      <td>Instagram</td>\n",
              "      <td>0.4</td>\n",
              "      <td>Devolucion</td>\n",
              "      <td>Habitual</td>\n",
              "      <td>Tops</td>\n",
              "      <td>45</td>\n",
              "      <td>3</td>\n",
              "    </tr>\n",
              "    <tr>\n",
              "      <th>1435</th>\n",
              "      <td>Propio</td>\n",
              "      <td>Instagram</td>\n",
              "      <td>0.0</td>\n",
              "      <td>Compra</td>\n",
              "      <td>Nuevo</td>\n",
              "      <td>Interior</td>\n",
              "      <td>20</td>\n",
              "      <td>1</td>\n",
              "    </tr>\n",
              "    <tr>\n",
              "      <th>60725</th>\n",
              "      <td>Propio</td>\n",
              "      <td>Facebook</td>\n",
              "      <td>0.0</td>\n",
              "      <td>Compra</td>\n",
              "      <td>Nuevo</td>\n",
              "      <td>Bottoms</td>\n",
              "      <td>50</td>\n",
              "      <td>1</td>\n",
              "    </tr>\n",
              "    <tr>\n",
              "      <th>33220</th>\n",
              "      <td>Propio</td>\n",
              "      <td>Instagram</td>\n",
              "      <td>0.0</td>\n",
              "      <td>Compra</td>\n",
              "      <td>Nuevo</td>\n",
              "      <td>Bottoms</td>\n",
              "      <td>40</td>\n",
              "      <td>1</td>\n",
              "    </tr>\n",
              "    <tr>\n",
              "      <th>5333</th>\n",
              "      <td>Influencer</td>\n",
              "      <td>Facebook</td>\n",
              "      <td>0.3</td>\n",
              "      <td>Compra</td>\n",
              "      <td>Nuevo</td>\n",
              "      <td>Tops</td>\n",
              "      <td>45</td>\n",
              "      <td>1</td>\n",
              "    </tr>\n",
              "    <tr>\n",
              "      <th>5083</th>\n",
              "      <td>Influencer</td>\n",
              "      <td>Instagram</td>\n",
              "      <td>0.4</td>\n",
              "      <td>Compra</td>\n",
              "      <td>Nuevo</td>\n",
              "      <td>Tops</td>\n",
              "      <td>50</td>\n",
              "      <td>3</td>\n",
              "    </tr>\n",
              "    <tr>\n",
              "      <th>27029</th>\n",
              "      <td>Propio</td>\n",
              "      <td>Instagram</td>\n",
              "      <td>0.0</td>\n",
              "      <td>Compra</td>\n",
              "      <td>Habitual</td>\n",
              "      <td>Interior</td>\n",
              "      <td>50</td>\n",
              "      <td>1</td>\n",
              "    </tr>\n",
              "    <tr>\n",
              "      <th>12179</th>\n",
              "      <td>Influencer</td>\n",
              "      <td>Facebook</td>\n",
              "      <td>0.3</td>\n",
              "      <td>Compra</td>\n",
              "      <td>Habitual</td>\n",
              "      <td>Tops</td>\n",
              "      <td>48</td>\n",
              "      <td>1</td>\n",
              "    </tr>\n",
              "  </tbody>\n",
              "</table>\n",
              "</div>"
            ],
            "text/plain": [
              "            Medio Plataforma  Comisión  ...      Item Precio Frec_Devol_V\n",
              "14685  Influencer    Youtube       0.1  ...  Interior     35            1\n",
              "19225  Influencer  Instagram       0.3  ...      Tops     30            1\n",
              "32446  Influencer  Instagram       0.4  ...      Tops     45            3\n",
              "1435       Propio  Instagram       0.0  ...  Interior     20            1\n",
              "60725      Propio   Facebook       0.0  ...   Bottoms     50            1\n",
              "33220      Propio  Instagram       0.0  ...   Bottoms     40            1\n",
              "5333   Influencer   Facebook       0.3  ...      Tops     45            1\n",
              "5083   Influencer  Instagram       0.4  ...      Tops     50            3\n",
              "27029      Propio  Instagram       0.0  ...  Interior     50            1\n",
              "12179  Influencer   Facebook       0.3  ...      Tops     48            1\n",
              "\n",
              "[10 rows x 8 columns]"
            ]
          },
          "metadata": {
            "tags": []
          },
          "execution_count": 39
        }
      ]
    },
    {
      "cell_type": "code",
      "metadata": {
        "colab": {
          "base_uri": "https://localhost:8080/"
        },
        "id": "rnaNsXH0n2Km",
        "outputId": "a57f03cb-064e-47a2-e4de-56010c08ea5a"
      },
      "source": [
        "dff2['Frec_Devol_V'].unique()"
      ],
      "execution_count": null,
      "outputs": [
        {
          "output_type": "execute_result",
          "data": {
            "text/plain": [
              "array([1, 3, 0, 2])"
            ]
          },
          "metadata": {
            "tags": []
          },
          "execution_count": 156
        }
      ]
    },
    {
      "cell_type": "code",
      "metadata": {
        "colab": {
          "base_uri": "https://localhost:8080/"
        },
        "id": "_H4U99HxtgPe",
        "outputId": "2970f40c-d149-4bd7-e70c-9b79fb00d169"
      },
      "source": [
        "graf_DevolV = dff2['Frec_Devol_V'].value_counts()\n",
        "graf_DevolV"
      ],
      "execution_count": null,
      "outputs": [
        {
          "output_type": "execute_result",
          "data": {
            "text/plain": [
              "1    55129\n",
              "3     5182\n",
              "0     2339\n",
              "2      571\n",
              "Name: Frec_Devol_V, dtype: int64"
            ]
          },
          "metadata": {
            "tags": []
          },
          "execution_count": 157
        }
      ]
    },
    {
      "cell_type": "code",
      "metadata": {
        "colab": {
          "base_uri": "https://localhost:8080/",
          "height": 309
        },
        "id": "GMGr8wSfvXFd",
        "outputId": "5c010065-2d93-4172-a908-2cf0435fe730"
      },
      "source": [
        "graf_DevolV.plot(kind = 'bar')\n",
        "plt.xlabel('Indicadores de Frecuencia por Vendedor')\n",
        "plt.ylabel('Número de Incidencias')\n",
        "plt.title('Frecuencia de Devoluciones por Vendedor')"
      ],
      "execution_count": null,
      "outputs": [
        {
          "output_type": "execute_result",
          "data": {
            "text/plain": [
              "Text(0.5, 1.0, 'Frecuencia de Devoluciones por Vendedor')"
            ]
          },
          "metadata": {
            "tags": []
          },
          "execution_count": 42
        },
        {
          "output_type": "display_data",
          "data": {
            "image/png": "[encoded data removed]",
            "text/plain": [
              "<Figure size 432x288 with 1 Axes>"
            ]
          },
          "metadata": {
            "tags": [],
            "needs_background": "light"
          }
        }
      ]
    },
    {
      "cell_type": "markdown",
      "metadata": {
        "id": "dNvOr_QKwxiN"
      },
      "source": [
        "##**Generación de Variables Dummy**"
      ]
    },
    {
      "cell_type": "markdown",
      "metadata": {
        "id": "b-1AajJzcr4d"
      },
      "source": [
        "**Convertimos a Dummies la columna Plataforma**"
      ]
    },
    {
      "cell_type": "code",
      "metadata": {
        "id": "1vS85BOhcwi3"
      },
      "source": [
        "cat_featsPlataform= ['Plataforma']"
      ],
      "execution_count": null,
      "outputs": []
    },
    {
      "cell_type": "code",
      "metadata": {
        "id": "mk80n63Xcxq_",
        "colab": {
          "base_uri": "https://localhost:8080/",
          "height": 436
        },
        "outputId": "c8280470-784a-4927-8480-e6414df40ebc"
      },
      "source": [
        "pd.get_dummies(dff2, columns=cat_featsPlataform)"
      ],
      "execution_count": null,
      "outputs": [
        {
          "output_type": "execute_result",
          "data": {
            "text/html": [
              "<div>\n",
              "<style scoped>\n",
              "    .dataframe tbody tr th:only-of-type {\n",
              "        vertical-align: middle;\n",
              "    }\n",
              "\n",
              "    .dataframe tbody tr th {\n",
              "        vertical-align: top;\n",
              "    }\n",
              "\n",
              "    .dataframe thead th {\n",
              "        text-align: right;\n",
              "    }\n",
              "</style>\n",
              "<table border=\"1\" class=\"dataframe\">\n",
              "  <thead>\n",
              "    <tr style=\"text-align: right;\">\n",
              "      <th></th>\n",
              "      <th>Medio</th>\n",
              "      <th>Comisión</th>\n",
              "      <th>Tipo Orden</th>\n",
              "      <th>Tipo de Cliente</th>\n",
              "      <th>Item</th>\n",
              "      <th>Precio</th>\n",
              "      <th>Frec_Devol_V</th>\n",
              "      <th>Plataforma_Facebook</th>\n",
              "      <th>Plataforma_Instagram</th>\n",
              "      <th>Plataforma_Website</th>\n",
              "      <th>Plataforma_Youtube</th>\n",
              "    </tr>\n",
              "  </thead>\n",
              "  <tbody>\n",
              "    <tr>\n",
              "      <th>0</th>\n",
              "      <td>Propio</td>\n",
              "      <td>0.0</td>\n",
              "      <td>Compra</td>\n",
              "      <td>Habitual</td>\n",
              "      <td>Bottoms</td>\n",
              "      <td>40</td>\n",
              "      <td>1</td>\n",
              "      <td>0</td>\n",
              "      <td>0</td>\n",
              "      <td>1</td>\n",
              "      <td>0</td>\n",
              "    </tr>\n",
              "    <tr>\n",
              "      <th>1</th>\n",
              "      <td>Propio</td>\n",
              "      <td>0.0</td>\n",
              "      <td>Compra</td>\n",
              "      <td>Habitual</td>\n",
              "      <td>Tops</td>\n",
              "      <td>50</td>\n",
              "      <td>1</td>\n",
              "      <td>0</td>\n",
              "      <td>0</td>\n",
              "      <td>1</td>\n",
              "      <td>0</td>\n",
              "    </tr>\n",
              "    <tr>\n",
              "      <th>2</th>\n",
              "      <td>Propio</td>\n",
              "      <td>0.0</td>\n",
              "      <td>Compra</td>\n",
              "      <td>Habitual</td>\n",
              "      <td>Bottoms</td>\n",
              "      <td>36</td>\n",
              "      <td>1</td>\n",
              "      <td>0</td>\n",
              "      <td>0</td>\n",
              "      <td>1</td>\n",
              "      <td>0</td>\n",
              "    </tr>\n",
              "    <tr>\n",
              "      <th>3</th>\n",
              "      <td>Propio</td>\n",
              "      <td>0.0</td>\n",
              "      <td>Compra</td>\n",
              "      <td>Habitual</td>\n",
              "      <td>Interior</td>\n",
              "      <td>40</td>\n",
              "      <td>1</td>\n",
              "      <td>0</td>\n",
              "      <td>0</td>\n",
              "      <td>1</td>\n",
              "      <td>0</td>\n",
              "    </tr>\n",
              "    <tr>\n",
              "      <th>4</th>\n",
              "      <td>Propio</td>\n",
              "      <td>0.0</td>\n",
              "      <td>Compra</td>\n",
              "      <td>Habitual</td>\n",
              "      <td>Tops</td>\n",
              "      <td>50</td>\n",
              "      <td>1</td>\n",
              "      <td>0</td>\n",
              "      <td>0</td>\n",
              "      <td>1</td>\n",
              "      <td>0</td>\n",
              "    </tr>\n",
              "    <tr>\n",
              "      <th>...</th>\n",
              "      <td>...</td>\n",
              "      <td>...</td>\n",
              "      <td>...</td>\n",
              "      <td>...</td>\n",
              "      <td>...</td>\n",
              "      <td>...</td>\n",
              "      <td>...</td>\n",
              "      <td>...</td>\n",
              "      <td>...</td>\n",
              "      <td>...</td>\n",
              "      <td>...</td>\n",
              "    </tr>\n",
              "    <tr>\n",
              "      <th>63216</th>\n",
              "      <td>Influencer</td>\n",
              "      <td>0.3</td>\n",
              "      <td>Compra</td>\n",
              "      <td>Habitual</td>\n",
              "      <td>Tops</td>\n",
              "      <td>46</td>\n",
              "      <td>0</td>\n",
              "      <td>0</td>\n",
              "      <td>0</td>\n",
              "      <td>0</td>\n",
              "      <td>1</td>\n",
              "    </tr>\n",
              "    <tr>\n",
              "      <th>63217</th>\n",
              "      <td>Influencer</td>\n",
              "      <td>0.3</td>\n",
              "      <td>Compra</td>\n",
              "      <td>Habitual</td>\n",
              "      <td>Interior</td>\n",
              "      <td>38</td>\n",
              "      <td>0</td>\n",
              "      <td>0</td>\n",
              "      <td>0</td>\n",
              "      <td>0</td>\n",
              "      <td>1</td>\n",
              "    </tr>\n",
              "    <tr>\n",
              "      <th>63218</th>\n",
              "      <td>Influencer</td>\n",
              "      <td>0.3</td>\n",
              "      <td>Compra</td>\n",
              "      <td>Habitual</td>\n",
              "      <td>Tops</td>\n",
              "      <td>40</td>\n",
              "      <td>0</td>\n",
              "      <td>0</td>\n",
              "      <td>0</td>\n",
              "      <td>0</td>\n",
              "      <td>1</td>\n",
              "    </tr>\n",
              "    <tr>\n",
              "      <th>63219</th>\n",
              "      <td>Influencer</td>\n",
              "      <td>0.3</td>\n",
              "      <td>Compra</td>\n",
              "      <td>Habitual</td>\n",
              "      <td>Interior</td>\n",
              "      <td>20</td>\n",
              "      <td>0</td>\n",
              "      <td>0</td>\n",
              "      <td>0</td>\n",
              "      <td>0</td>\n",
              "      <td>1</td>\n",
              "    </tr>\n",
              "    <tr>\n",
              "      <th>63220</th>\n",
              "      <td>Influencer</td>\n",
              "      <td>0.3</td>\n",
              "      <td>Compra</td>\n",
              "      <td>Habitual</td>\n",
              "      <td>Tops</td>\n",
              "      <td>100</td>\n",
              "      <td>0</td>\n",
              "      <td>0</td>\n",
              "      <td>0</td>\n",
              "      <td>0</td>\n",
              "      <td>1</td>\n",
              "    </tr>\n",
              "  </tbody>\n",
              "</table>\n",
              "<p>63221 rows × 11 columns</p>\n",
              "</div>"
            ],
            "text/plain": [
              "            Medio  Comisión  ... Plataforma_Website Plataforma_Youtube\n",
              "0          Propio       0.0  ...                  1                  0\n",
              "1          Propio       0.0  ...                  1                  0\n",
              "2          Propio       0.0  ...                  1                  0\n",
              "3          Propio       0.0  ...                  1                  0\n",
              "4          Propio       0.0  ...                  1                  0\n",
              "...           ...       ...  ...                ...                ...\n",
              "63216  Influencer       0.3  ...                  0                  1\n",
              "63217  Influencer       0.3  ...                  0                  1\n",
              "63218  Influencer       0.3  ...                  0                  1\n",
              "63219  Influencer       0.3  ...                  0                  1\n",
              "63220  Influencer       0.3  ...                  0                  1\n",
              "\n",
              "[63221 rows x 11 columns]"
            ]
          },
          "metadata": {
            "tags": []
          },
          "execution_count": 164
        }
      ]
    },
    {
      "cell_type": "code",
      "metadata": {
        "id": "VcksW-GoczNs"
      },
      "source": [
        "final_datosPlat = pd.get_dummies(dff2, columns=cat_featsPlataform)"
      ],
      "execution_count": null,
      "outputs": []
    },
    {
      "cell_type": "markdown",
      "metadata": {
        "id": "5lyAjXAKc1lN"
      },
      "source": [
        "**Convertimos a Dummies la columna Tipo Orden**"
      ]
    },
    {
      "cell_type": "code",
      "metadata": {
        "id": "QVnfCAYBdD7L"
      },
      "source": [
        "cat_featsTipo= ['Tipo Orden']"
      ],
      "execution_count": null,
      "outputs": []
    },
    {
      "cell_type": "code",
      "metadata": {
        "id": "WnConzxidFfK",
        "colab": {
          "base_uri": "https://localhost:8080/",
          "height": 456
        },
        "outputId": "363b628d-350d-40e1-fed0-9729cfa892f1"
      },
      "source": [
        "pd.get_dummies(final_datosPlat, columns=cat_featsTipo)"
      ],
      "execution_count": null,
      "outputs": [
        {
          "output_type": "execute_result",
          "data": {
            "text/html": [
              "<div>\n",
              "<style scoped>\n",
              "    .dataframe tbody tr th:only-of-type {\n",
              "        vertical-align: middle;\n",
              "    }\n",
              "\n",
              "    .dataframe tbody tr th {\n",
              "        vertical-align: top;\n",
              "    }\n",
              "\n",
              "    .dataframe thead th {\n",
              "        text-align: right;\n",
              "    }\n",
              "</style>\n",
              "<table border=\"1\" class=\"dataframe\">\n",
              "  <thead>\n",
              "    <tr style=\"text-align: right;\">\n",
              "      <th></th>\n",
              "      <th>Medio</th>\n",
              "      <th>Comisión</th>\n",
              "      <th>Tipo de Cliente</th>\n",
              "      <th>Item</th>\n",
              "      <th>Precio</th>\n",
              "      <th>Frec_Devol_V</th>\n",
              "      <th>Plataforma_Facebook</th>\n",
              "      <th>Plataforma_Instagram</th>\n",
              "      <th>Plataforma_Website</th>\n",
              "      <th>Plataforma_Youtube</th>\n",
              "      <th>Tipo Orden_Compra</th>\n",
              "      <th>Tipo Orden_Devolucion</th>\n",
              "    </tr>\n",
              "  </thead>\n",
              "  <tbody>\n",
              "    <tr>\n",
              "      <th>0</th>\n",
              "      <td>Propio</td>\n",
              "      <td>0.0</td>\n",
              "      <td>Habitual</td>\n",
              "      <td>Bottoms</td>\n",
              "      <td>40</td>\n",
              "      <td>1</td>\n",
              "      <td>0</td>\n",
              "      <td>0</td>\n",
              "      <td>1</td>\n",
              "      <td>0</td>\n",
              "      <td>1</td>\n",
              "      <td>0</td>\n",
              "    </tr>\n",
              "    <tr>\n",
              "      <th>1</th>\n",
              "      <td>Propio</td>\n",
              "      <td>0.0</td>\n",
              "      <td>Habitual</td>\n",
              "      <td>Tops</td>\n",
              "      <td>50</td>\n",
              "      <td>1</td>\n",
              "      <td>0</td>\n",
              "      <td>0</td>\n",
              "      <td>1</td>\n",
              "      <td>0</td>\n",
              "      <td>1</td>\n",
              "      <td>0</td>\n",
              "    </tr>\n",
              "    <tr>\n",
              "      <th>2</th>\n",
              "      <td>Propio</td>\n",
              "      <td>0.0</td>\n",
              "      <td>Habitual</td>\n",
              "      <td>Bottoms</td>\n",
              "      <td>36</td>\n",
              "      <td>1</td>\n",
              "      <td>0</td>\n",
              "      <td>0</td>\n",
              "      <td>1</td>\n",
              "      <td>0</td>\n",
              "      <td>1</td>\n",
              "      <td>0</td>\n",
              "    </tr>\n",
              "    <tr>\n",
              "      <th>3</th>\n",
              "      <td>Propio</td>\n",
              "      <td>0.0</td>\n",
              "      <td>Habitual</td>\n",
              "      <td>Interior</td>\n",
              "      <td>40</td>\n",
              "      <td>1</td>\n",
              "      <td>0</td>\n",
              "      <td>0</td>\n",
              "      <td>1</td>\n",
              "      <td>0</td>\n",
              "      <td>1</td>\n",
              "      <td>0</td>\n",
              "    </tr>\n",
              "    <tr>\n",
              "      <th>4</th>\n",
              "      <td>Propio</td>\n",
              "      <td>0.0</td>\n",
              "      <td>Habitual</td>\n",
              "      <td>Tops</td>\n",
              "      <td>50</td>\n",
              "      <td>1</td>\n",
              "      <td>0</td>\n",
              "      <td>0</td>\n",
              "      <td>1</td>\n",
              "      <td>0</td>\n",
              "      <td>1</td>\n",
              "      <td>0</td>\n",
              "    </tr>\n",
              "    <tr>\n",
              "      <th>...</th>\n",
              "      <td>...</td>\n",
              "      <td>...</td>\n",
              "      <td>...</td>\n",
              "      <td>...</td>\n",
              "      <td>...</td>\n",
              "      <td>...</td>\n",
              "      <td>...</td>\n",
              "      <td>...</td>\n",
              "      <td>...</td>\n",
              "      <td>...</td>\n",
              "      <td>...</td>\n",
              "      <td>...</td>\n",
              "    </tr>\n",
              "    <tr>\n",
              "      <th>63216</th>\n",
              "      <td>Influencer</td>\n",
              "      <td>0.3</td>\n",
              "      <td>Habitual</td>\n",
              "      <td>Tops</td>\n",
              "      <td>46</td>\n",
              "      <td>0</td>\n",
              "      <td>0</td>\n",
              "      <td>0</td>\n",
              "      <td>0</td>\n",
              "      <td>1</td>\n",
              "      <td>1</td>\n",
              "      <td>0</td>\n",
              "    </tr>\n",
              "    <tr>\n",
              "      <th>63217</th>\n",
              "      <td>Influencer</td>\n",
              "      <td>0.3</td>\n",
              "      <td>Habitual</td>\n",
              "      <td>Interior</td>\n",
              "      <td>38</td>\n",
              "      <td>0</td>\n",
              "      <td>0</td>\n",
              "      <td>0</td>\n",
              "      <td>0</td>\n",
              "      <td>1</td>\n",
              "      <td>1</td>\n",
              "      <td>0</td>\n",
              "    </tr>\n",
              "    <tr>\n",
              "      <th>63218</th>\n",
              "      <td>Influencer</td>\n",
              "      <td>0.3</td>\n",
              "      <td>Habitual</td>\n",
              "      <td>Tops</td>\n",
              "      <td>40</td>\n",
              "      <td>0</td>\n",
              "      <td>0</td>\n",
              "      <td>0</td>\n",
              "      <td>0</td>\n",
              "      <td>1</td>\n",
              "      <td>1</td>\n",
              "      <td>0</td>\n",
              "    </tr>\n",
              "    <tr>\n",
              "      <th>63219</th>\n",
              "      <td>Influencer</td>\n",
              "      <td>0.3</td>\n",
              "      <td>Habitual</td>\n",
              "      <td>Interior</td>\n",
              "      <td>20</td>\n",
              "      <td>0</td>\n",
              "      <td>0</td>\n",
              "      <td>0</td>\n",
              "      <td>0</td>\n",
              "      <td>1</td>\n",
              "      <td>1</td>\n",
              "      <td>0</td>\n",
              "    </tr>\n",
              "    <tr>\n",
              "      <th>63220</th>\n",
              "      <td>Influencer</td>\n",
              "      <td>0.3</td>\n",
              "      <td>Habitual</td>\n",
              "      <td>Tops</td>\n",
              "      <td>100</td>\n",
              "      <td>0</td>\n",
              "      <td>0</td>\n",
              "      <td>0</td>\n",
              "      <td>0</td>\n",
              "      <td>1</td>\n",
              "      <td>1</td>\n",
              "      <td>0</td>\n",
              "    </tr>\n",
              "  </tbody>\n",
              "</table>\n",
              "<p>63221 rows × 12 columns</p>\n",
              "</div>"
            ],
            "text/plain": [
              "            Medio  Comisión  ... Tipo Orden_Compra Tipo Orden_Devolucion\n",
              "0          Propio       0.0  ...                 1                     0\n",
              "1          Propio       0.0  ...                 1                     0\n",
              "2          Propio       0.0  ...                 1                     0\n",
              "3          Propio       0.0  ...                 1                     0\n",
              "4          Propio       0.0  ...                 1                     0\n",
              "...           ...       ...  ...               ...                   ...\n",
              "63216  Influencer       0.3  ...                 1                     0\n",
              "63217  Influencer       0.3  ...                 1                     0\n",
              "63218  Influencer       0.3  ...                 1                     0\n",
              "63219  Influencer       0.3  ...                 1                     0\n",
              "63220  Influencer       0.3  ...                 1                     0\n",
              "\n",
              "[63221 rows x 12 columns]"
            ]
          },
          "metadata": {
            "tags": []
          },
          "execution_count": 167
        }
      ]
    },
    {
      "cell_type": "code",
      "metadata": {
        "id": "_XFTSubFdGe8"
      },
      "source": [
        "final_datosTipo = pd.get_dummies(final_datosPlat, columns=cat_featsTipo)"
      ],
      "execution_count": null,
      "outputs": []
    },
    {
      "cell_type": "markdown",
      "metadata": {
        "id": "S1gGycCvc4HZ"
      },
      "source": [
        "**Convertimos a Dummies la columna Item**"
      ]
    },
    {
      "cell_type": "code",
      "metadata": {
        "id": "lyr1ioM3dPuf"
      },
      "source": [
        "cat_featsItem= ['Item']"
      ],
      "execution_count": null,
      "outputs": []
    },
    {
      "cell_type": "code",
      "metadata": {
        "id": "vCrrmifEdQ3J",
        "colab": {
          "base_uri": "https://localhost:8080/",
          "height": 456
        },
        "outputId": "b5f7ea6d-a31b-45ba-96dc-f5355db3642f"
      },
      "source": [
        "pd.get_dummies(final_datosTipo, columns=cat_featsItem)"
      ],
      "execution_count": null,
      "outputs": [
        {
          "output_type": "execute_result",
          "data": {
            "text/html": [
              "<div>\n",
              "<style scoped>\n",
              "    .dataframe tbody tr th:only-of-type {\n",
              "        vertical-align: middle;\n",
              "    }\n",
              "\n",
              "    .dataframe tbody tr th {\n",
              "        vertical-align: top;\n",
              "    }\n",
              "\n",
              "    .dataframe thead th {\n",
              "        text-align: right;\n",
              "    }\n",
              "</style>\n",
              "<table border=\"1\" class=\"dataframe\">\n",
              "  <thead>\n",
              "    <tr style=\"text-align: right;\">\n",
              "      <th></th>\n",
              "      <th>Medio</th>\n",
              "      <th>Comisión</th>\n",
              "      <th>Tipo de Cliente</th>\n",
              "      <th>Precio</th>\n",
              "      <th>Frec_Devol_V</th>\n",
              "      <th>Plataforma_Facebook</th>\n",
              "      <th>Plataforma_Instagram</th>\n",
              "      <th>Plataforma_Website</th>\n",
              "      <th>Plataforma_Youtube</th>\n",
              "      <th>Tipo Orden_Compra</th>\n",
              "      <th>Tipo Orden_Devolucion</th>\n",
              "      <th>Item_Bottoms</th>\n",
              "      <th>Item_Interior</th>\n",
              "      <th>Item_Tops</th>\n",
              "    </tr>\n",
              "  </thead>\n",
              "  <tbody>\n",
              "    <tr>\n",
              "      <th>0</th>\n",
              "      <td>Propio</td>\n",
              "      <td>0.0</td>\n",
              "      <td>Habitual</td>\n",
              "      <td>40</td>\n",
              "      <td>1</td>\n",
              "      <td>0</td>\n",
              "      <td>0</td>\n",
              "      <td>1</td>\n",
              "      <td>0</td>\n",
              "      <td>1</td>\n",
              "      <td>0</td>\n",
              "      <td>1</td>\n",
              "      <td>0</td>\n",
              "      <td>0</td>\n",
              "    </tr>\n",
              "    <tr>\n",
              "      <th>1</th>\n",
              "      <td>Propio</td>\n",
              "      <td>0.0</td>\n",
              "      <td>Habitual</td>\n",
              "      <td>50</td>\n",
              "      <td>1</td>\n",
              "      <td>0</td>\n",
              "      <td>0</td>\n",
              "      <td>1</td>\n",
              "      <td>0</td>\n",
              "      <td>1</td>\n",
              "      <td>0</td>\n",
              "      <td>0</td>\n",
              "      <td>0</td>\n",
              "      <td>1</td>\n",
              "    </tr>\n",
              "    <tr>\n",
              "      <th>2</th>\n",
              "      <td>Propio</td>\n",
              "      <td>0.0</td>\n",
              "      <td>Habitual</td>\n",
              "      <td>36</td>\n",
              "      <td>1</td>\n",
              "      <td>0</td>\n",
              "      <td>0</td>\n",
              "      <td>1</td>\n",
              "      <td>0</td>\n",
              "      <td>1</td>\n",
              "      <td>0</td>\n",
              "      <td>1</td>\n",
              "      <td>0</td>\n",
              "      <td>0</td>\n",
              "    </tr>\n",
              "    <tr>\n",
              "      <th>3</th>\n",
              "      <td>Propio</td>\n",
              "      <td>0.0</td>\n",
              "      <td>Habitual</td>\n",
              "      <td>40</td>\n",
              "      <td>1</td>\n",
              "      <td>0</td>\n",
              "      <td>0</td>\n",
              "      <td>1</td>\n",
              "      <td>0</td>\n",
              "      <td>1</td>\n",
              "      <td>0</td>\n",
              "      <td>0</td>\n",
              "      <td>1</td>\n",
              "      <td>0</td>\n",
              "    </tr>\n",
              "    <tr>\n",
              "      <th>4</th>\n",
              "      <td>Propio</td>\n",
              "      <td>0.0</td>\n",
              "      <td>Habitual</td>\n",
              "      <td>50</td>\n",
              "      <td>1</td>\n",
              "      <td>0</td>\n",
              "      <td>0</td>\n",
              "      <td>1</td>\n",
              "      <td>0</td>\n",
              "      <td>1</td>\n",
              "      <td>0</td>\n",
              "      <td>0</td>\n",
              "      <td>0</td>\n",
              "      <td>1</td>\n",
              "    </tr>\n",
              "    <tr>\n",
              "      <th>...</th>\n",
              "      <td>...</td>\n",
              "      <td>...</td>\n",
              "      <td>...</td>\n",
              "      <td>...</td>\n",
              "      <td>...</td>\n",
              "      <td>...</td>\n",
              "      <td>...</td>\n",
              "      <td>...</td>\n",
              "      <td>...</td>\n",
              "      <td>...</td>\n",
              "      <td>...</td>\n",
              "      <td>...</td>\n",
              "      <td>...</td>\n",
              "      <td>...</td>\n",
              "    </tr>\n",
              "    <tr>\n",
              "      <th>63216</th>\n",
              "      <td>Influencer</td>\n",
              "      <td>0.3</td>\n",
              "      <td>Habitual</td>\n",
              "      <td>46</td>\n",
              "      <td>0</td>\n",
              "      <td>0</td>\n",
              "      <td>0</td>\n",
              "      <td>0</td>\n",
              "      <td>1</td>\n",
              "      <td>1</td>\n",
              "      <td>0</td>\n",
              "      <td>0</td>\n",
              "      <td>0</td>\n",
              "      <td>1</td>\n",
              "    </tr>\n",
              "    <tr>\n",
              "      <th>63217</th>\n",
              "      <td>Influencer</td>\n",
              "      <td>0.3</td>\n",
              "      <td>Habitual</td>\n",
              "      <td>38</td>\n",
              "      <td>0</td>\n",
              "      <td>0</td>\n",
              "      <td>0</td>\n",
              "      <td>0</td>\n",
              "      <td>1</td>\n",
              "      <td>1</td>\n",
              "      <td>0</td>\n",
              "      <td>0</td>\n",
              "      <td>1</td>\n",
              "      <td>0</td>\n",
              "    </tr>\n",
              "    <tr>\n",
              "      <th>63218</th>\n",
              "      <td>Influencer</td>\n",
              "      <td>0.3</td>\n",
              "      <td>Habitual</td>\n",
              "      <td>40</td>\n",
              "      <td>0</td>\n",
              "      <td>0</td>\n",
              "      <td>0</td>\n",
              "      <td>0</td>\n",
              "      <td>1</td>\n",
              "      <td>1</td>\n",
              "      <td>0</td>\n",
              "      <td>0</td>\n",
              "      <td>0</td>\n",
              "      <td>1</td>\n",
              "    </tr>\n",
              "    <tr>\n",
              "      <th>63219</th>\n",
              "      <td>Influencer</td>\n",
              "      <td>0.3</td>\n",
              "      <td>Habitual</td>\n",
              "      <td>20</td>\n",
              "      <td>0</td>\n",
              "      <td>0</td>\n",
              "      <td>0</td>\n",
              "      <td>0</td>\n",
              "      <td>1</td>\n",
              "      <td>1</td>\n",
              "      <td>0</td>\n",
              "      <td>0</td>\n",
              "      <td>1</td>\n",
              "      <td>0</td>\n",
              "    </tr>\n",
              "    <tr>\n",
              "      <th>63220</th>\n",
              "      <td>Influencer</td>\n",
              "      <td>0.3</td>\n",
              "      <td>Habitual</td>\n",
              "      <td>100</td>\n",
              "      <td>0</td>\n",
              "      <td>0</td>\n",
              "      <td>0</td>\n",
              "      <td>0</td>\n",
              "      <td>1</td>\n",
              "      <td>1</td>\n",
              "      <td>0</td>\n",
              "      <td>0</td>\n",
              "      <td>0</td>\n",
              "      <td>1</td>\n",
              "    </tr>\n",
              "  </tbody>\n",
              "</table>\n",
              "<p>63221 rows × 14 columns</p>\n",
              "</div>"
            ],
            "text/plain": [
              "            Medio  Comisión  ... Item_Interior  Item_Tops\n",
              "0          Propio       0.0  ...             0          0\n",
              "1          Propio       0.0  ...             0          1\n",
              "2          Propio       0.0  ...             0          0\n",
              "3          Propio       0.0  ...             1          0\n",
              "4          Propio       0.0  ...             0          1\n",
              "...           ...       ...  ...           ...        ...\n",
              "63216  Influencer       0.3  ...             0          1\n",
              "63217  Influencer       0.3  ...             1          0\n",
              "63218  Influencer       0.3  ...             0          1\n",
              "63219  Influencer       0.3  ...             1          0\n",
              "63220  Influencer       0.3  ...             0          1\n",
              "\n",
              "[63221 rows x 14 columns]"
            ]
          },
          "metadata": {
            "tags": []
          },
          "execution_count": 170
        }
      ]
    },
    {
      "cell_type": "code",
      "metadata": {
        "id": "BsAJt36ZdTah"
      },
      "source": [
        "final_datosItem = pd.get_dummies(final_datosTipo, columns=cat_featsItem)"
      ],
      "execution_count": null,
      "outputs": []
    },
    {
      "cell_type": "markdown",
      "metadata": {
        "id": "DLv3NfCKYwPl"
      },
      "source": [
        "**Convertimos a Dummies la columna Medio**"
      ]
    },
    {
      "cell_type": "code",
      "metadata": {
        "id": "PSfes5KQYwPm"
      },
      "source": [
        "cat_featsMedio= ['Medio']"
      ],
      "execution_count": null,
      "outputs": []
    },
    {
      "cell_type": "code",
      "metadata": {
        "colab": {
          "base_uri": "https://localhost:8080/",
          "height": 456
        },
        "id": "GhR41yOtYwPm",
        "outputId": "ff677892-36db-4d7f-bd7d-d8f94169bb65"
      },
      "source": [
        "pd.get_dummies(final_datosItem, columns=cat_featsMedio)"
      ],
      "execution_count": null,
      "outputs": [
        {
          "output_type": "execute_result",
          "data": {
            "text/html": [
              "<div>\n",
              "<style scoped>\n",
              "    .dataframe tbody tr th:only-of-type {\n",
              "        vertical-align: middle;\n",
              "    }\n",
              "\n",
              "    .dataframe tbody tr th {\n",
              "        vertical-align: top;\n",
              "    }\n",
              "\n",
              "    .dataframe thead th {\n",
              "        text-align: right;\n",
              "    }\n",
              "</style>\n",
              "<table border=\"1\" class=\"dataframe\">\n",
              "  <thead>\n",
              "    <tr style=\"text-align: right;\">\n",
              "      <th></th>\n",
              "      <th>Comisión</th>\n",
              "      <th>Tipo de Cliente</th>\n",
              "      <th>Precio</th>\n",
              "      <th>Frec_Devol_V</th>\n",
              "      <th>Plataforma_Facebook</th>\n",
              "      <th>Plataforma_Instagram</th>\n",
              "      <th>Plataforma_Website</th>\n",
              "      <th>Plataforma_Youtube</th>\n",
              "      <th>Tipo Orden_Compra</th>\n",
              "      <th>Tipo Orden_Devolucion</th>\n",
              "      <th>Item_Bottoms</th>\n",
              "      <th>Item_Interior</th>\n",
              "      <th>Item_Tops</th>\n",
              "      <th>Medio_Influencer</th>\n",
              "      <th>Medio_Propio</th>\n",
              "    </tr>\n",
              "  </thead>\n",
              "  <tbody>\n",
              "    <tr>\n",
              "      <th>0</th>\n",
              "      <td>0.0</td>\n",
              "      <td>Habitual</td>\n",
              "      <td>40</td>\n",
              "      <td>1</td>\n",
              "      <td>0</td>\n",
              "      <td>0</td>\n",
              "      <td>1</td>\n",
              "      <td>0</td>\n",
              "      <td>1</td>\n",
              "      <td>0</td>\n",
              "      <td>1</td>\n",
              "      <td>0</td>\n",
              "      <td>0</td>\n",
              "      <td>0</td>\n",
              "      <td>1</td>\n",
              "    </tr>\n",
              "    <tr>\n",
              "      <th>1</th>\n",
              "      <td>0.0</td>\n",
              "      <td>Habitual</td>\n",
              "      <td>50</td>\n",
              "      <td>1</td>\n",
              "      <td>0</td>\n",
              "      <td>0</td>\n",
              "      <td>1</td>\n",
              "      <td>0</td>\n",
              "      <td>1</td>\n",
              "      <td>0</td>\n",
              "      <td>0</td>\n",
              "      <td>0</td>\n",
              "      <td>1</td>\n",
              "      <td>0</td>\n",
              "      <td>1</td>\n",
              "    </tr>\n",
              "    <tr>\n",
              "      <th>2</th>\n",
              "      <td>0.0</td>\n",
              "      <td>Habitual</td>\n",
              "      <td>36</td>\n",
              "      <td>1</td>\n",
              "      <td>0</td>\n",
              "      <td>0</td>\n",
              "      <td>1</td>\n",
              "      <td>0</td>\n",
              "      <td>1</td>\n",
              "      <td>0</td>\n",
              "      <td>1</td>\n",
              "      <td>0</td>\n",
              "      <td>0</td>\n",
              "      <td>0</td>\n",
              "      <td>1</td>\n",
              "    </tr>\n",
              "    <tr>\n",
              "      <th>3</th>\n",
              "      <td>0.0</td>\n",
              "      <td>Habitual</td>\n",
              "      <td>40</td>\n",
              "      <td>1</td>\n",
              "      <td>0</td>\n",
              "      <td>0</td>\n",
              "      <td>1</td>\n",
              "      <td>0</td>\n",
              "      <td>1</td>\n",
              "      <td>0</td>\n",
              "      <td>0</td>\n",
              "      <td>1</td>\n",
              "      <td>0</td>\n",
              "      <td>0</td>\n",
              "      <td>1</td>\n",
              "    </tr>\n",
              "    <tr>\n",
              "      <th>4</th>\n",
              "      <td>0.0</td>\n",
              "      <td>Habitual</td>\n",
              "      <td>50</td>\n",
              "      <td>1</td>\n",
              "      <td>0</td>\n",
              "      <td>0</td>\n",
              "      <td>1</td>\n",
              "      <td>0</td>\n",
              "      <td>1</td>\n",
              "      <td>0</td>\n",
              "      <td>0</td>\n",
              "      <td>0</td>\n",
              "      <td>1</td>\n",
              "      <td>0</td>\n",
              "      <td>1</td>\n",
              "    </tr>\n",
              "    <tr>\n",
              "      <th>...</th>\n",
              "      <td>...</td>\n",
              "      <td>...</td>\n",
              "      <td>...</td>\n",
              "      <td>...</td>\n",
              "      <td>...</td>\n",
              "      <td>...</td>\n",
              "      <td>...</td>\n",
              "      <td>...</td>\n",
              "      <td>...</td>\n",
              "      <td>...</td>\n",
              "      <td>...</td>\n",
              "      <td>...</td>\n",
              "      <td>...</td>\n",
              "      <td>...</td>\n",
              "      <td>...</td>\n",
              "    </tr>\n",
              "    <tr>\n",
              "      <th>63216</th>\n",
              "      <td>0.3</td>\n",
              "      <td>Habitual</td>\n",
              "      <td>46</td>\n",
              "      <td>0</td>\n",
              "      <td>0</td>\n",
              "      <td>0</td>\n",
              "      <td>0</td>\n",
              "      <td>1</td>\n",
              "      <td>1</td>\n",
              "      <td>0</td>\n",
              "      <td>0</td>\n",
              "      <td>0</td>\n",
              "      <td>1</td>\n",
              "      <td>1</td>\n",
              "      <td>0</td>\n",
              "    </tr>\n",
              "    <tr>\n",
              "      <th>63217</th>\n",
              "      <td>0.3</td>\n",
              "      <td>Habitual</td>\n",
              "      <td>38</td>\n",
              "      <td>0</td>\n",
              "      <td>0</td>\n",
              "      <td>0</td>\n",
              "      <td>0</td>\n",
              "      <td>1</td>\n",
              "      <td>1</td>\n",
              "      <td>0</td>\n",
              "      <td>0</td>\n",
              "      <td>1</td>\n",
              "      <td>0</td>\n",
              "      <td>1</td>\n",
              "      <td>0</td>\n",
              "    </tr>\n",
              "    <tr>\n",
              "      <th>63218</th>\n",
              "      <td>0.3</td>\n",
              "      <td>Habitual</td>\n",
              "      <td>40</td>\n",
              "      <td>0</td>\n",
              "      <td>0</td>\n",
              "      <td>0</td>\n",
              "      <td>0</td>\n",
              "      <td>1</td>\n",
              "      <td>1</td>\n",
              "      <td>0</td>\n",
              "      <td>0</td>\n",
              "      <td>0</td>\n",
              "      <td>1</td>\n",
              "      <td>1</td>\n",
              "      <td>0</td>\n",
              "    </tr>\n",
              "    <tr>\n",
              "      <th>63219</th>\n",
              "      <td>0.3</td>\n",
              "      <td>Habitual</td>\n",
              "      <td>20</td>\n",
              "      <td>0</td>\n",
              "      <td>0</td>\n",
              "      <td>0</td>\n",
              "      <td>0</td>\n",
              "      <td>1</td>\n",
              "      <td>1</td>\n",
              "      <td>0</td>\n",
              "      <td>0</td>\n",
              "      <td>1</td>\n",
              "      <td>0</td>\n",
              "      <td>1</td>\n",
              "      <td>0</td>\n",
              "    </tr>\n",
              "    <tr>\n",
              "      <th>63220</th>\n",
              "      <td>0.3</td>\n",
              "      <td>Habitual</td>\n",
              "      <td>100</td>\n",
              "      <td>0</td>\n",
              "      <td>0</td>\n",
              "      <td>0</td>\n",
              "      <td>0</td>\n",
              "      <td>1</td>\n",
              "      <td>1</td>\n",
              "      <td>0</td>\n",
              "      <td>0</td>\n",
              "      <td>0</td>\n",
              "      <td>1</td>\n",
              "      <td>1</td>\n",
              "      <td>0</td>\n",
              "    </tr>\n",
              "  </tbody>\n",
              "</table>\n",
              "<p>63221 rows × 15 columns</p>\n",
              "</div>"
            ],
            "text/plain": [
              "       Comisión Tipo de Cliente  ...  Medio_Influencer  Medio_Propio\n",
              "0           0.0        Habitual  ...                 0             1\n",
              "1           0.0        Habitual  ...                 0             1\n",
              "2           0.0        Habitual  ...                 0             1\n",
              "3           0.0        Habitual  ...                 0             1\n",
              "4           0.0        Habitual  ...                 0             1\n",
              "...         ...             ...  ...               ...           ...\n",
              "63216       0.3        Habitual  ...                 1             0\n",
              "63217       0.3        Habitual  ...                 1             0\n",
              "63218       0.3        Habitual  ...                 1             0\n",
              "63219       0.3        Habitual  ...                 1             0\n",
              "63220       0.3        Habitual  ...                 1             0\n",
              "\n",
              "[63221 rows x 15 columns]"
            ]
          },
          "metadata": {
            "tags": []
          },
          "execution_count": 53
        }
      ]
    },
    {
      "cell_type": "code",
      "metadata": {
        "id": "hzv_dKfXYwPm"
      },
      "source": [
        "final_datosMedio = pd.get_dummies(final_datosItem, columns=cat_featsMedio)"
      ],
      "execution_count": null,
      "outputs": []
    },
    {
      "cell_type": "markdown",
      "metadata": {
        "id": "BrgUj3eRYwPm"
      },
      "source": [
        "**Convertimos a Dummies la columna Tipo Cliente**"
      ]
    },
    {
      "cell_type": "code",
      "metadata": {
        "id": "UiShrUYEYwPm"
      },
      "source": [
        "cat_featsCliente= ['Tipo de Cliente']"
      ],
      "execution_count": null,
      "outputs": []
    },
    {
      "cell_type": "code",
      "metadata": {
        "colab": {
          "base_uri": "https://localhost:8080/",
          "height": 456
        },
        "id": "2ykqaex9YwPm",
        "outputId": "4695375b-ba84-47d0-e7ff-d04c45eb6ea2"
      },
      "source": [
        "pd.get_dummies(final_datosMedio, columns=cat_featsCliente)"
      ],
      "execution_count": null,
      "outputs": [
        {
          "output_type": "execute_result",
          "data": {
            "text/html": [
              "<div>\n",
              "<style scoped>\n",
              "    .dataframe tbody tr th:only-of-type {\n",
              "        vertical-align: middle;\n",
              "    }\n",
              "\n",
              "    .dataframe tbody tr th {\n",
              "        vertical-align: top;\n",
              "    }\n",
              "\n",
              "    .dataframe thead th {\n",
              "        text-align: right;\n",
              "    }\n",
              "</style>\n",
              "<table border=\"1\" class=\"dataframe\">\n",
              "  <thead>\n",
              "    <tr style=\"text-align: right;\">\n",
              "      <th></th>\n",
              "      <th>Comisión</th>\n",
              "      <th>Precio</th>\n",
              "      <th>Frec_Devol_V</th>\n",
              "      <th>Plataforma_Facebook</th>\n",
              "      <th>Plataforma_Instagram</th>\n",
              "      <th>Plataforma_Website</th>\n",
              "      <th>Plataforma_Youtube</th>\n",
              "      <th>Tipo Orden_Compra</th>\n",
              "      <th>Tipo Orden_Devolucion</th>\n",
              "      <th>Item_Bottoms</th>\n",
              "      <th>Item_Interior</th>\n",
              "      <th>Item_Tops</th>\n",
              "      <th>Medio_Influencer</th>\n",
              "      <th>Medio_Propio</th>\n",
              "      <th>Tipo de Cliente_Habitual</th>\n",
              "      <th>Tipo de Cliente_Nuevo</th>\n",
              "    </tr>\n",
              "  </thead>\n",
              "  <tbody>\n",
              "    <tr>\n",
              "      <th>0</th>\n",
              "      <td>0.0</td>\n",
              "      <td>40</td>\n",
              "      <td>1</td>\n",
              "      <td>0</td>\n",
              "      <td>0</td>\n",
              "      <td>1</td>\n",
              "      <td>0</td>\n",
              "      <td>1</td>\n",
              "      <td>0</td>\n",
              "      <td>1</td>\n",
              "      <td>0</td>\n",
              "      <td>0</td>\n",
              "      <td>0</td>\n",
              "      <td>1</td>\n",
              "      <td>1</td>\n",
              "      <td>0</td>\n",
              "    </tr>\n",
              "    <tr>\n",
              "      <th>1</th>\n",
              "      <td>0.0</td>\n",
              "      <td>50</td>\n",
              "      <td>1</td>\n",
              "      <td>0</td>\n",
              "      <td>0</td>\n",
              "      <td>1</td>\n",
              "      <td>0</td>\n",
              "      <td>1</td>\n",
              "      <td>0</td>\n",
              "      <td>0</td>\n",
              "      <td>0</td>\n",
              "      <td>1</td>\n",
              "      <td>0</td>\n",
              "      <td>1</td>\n",
              "      <td>1</td>\n",
              "      <td>0</td>\n",
              "    </tr>\n",
              "    <tr>\n",
              "      <th>2</th>\n",
              "      <td>0.0</td>\n",
              "      <td>36</td>\n",
              "      <td>1</td>\n",
              "      <td>0</td>\n",
              "      <td>0</td>\n",
              "      <td>1</td>\n",
              "      <td>0</td>\n",
              "      <td>1</td>\n",
              "      <td>0</td>\n",
              "      <td>1</td>\n",
              "      <td>0</td>\n",
              "      <td>0</td>\n",
              "      <td>0</td>\n",
              "      <td>1</td>\n",
              "      <td>1</td>\n",
              "      <td>0</td>\n",
              "    </tr>\n",
              "    <tr>\n",
              "      <th>3</th>\n",
              "      <td>0.0</td>\n",
              "      <td>40</td>\n",
              "      <td>1</td>\n",
              "      <td>0</td>\n",
              "      <td>0</td>\n",
              "      <td>1</td>\n",
              "      <td>0</td>\n",
              "      <td>1</td>\n",
              "      <td>0</td>\n",
              "      <td>0</td>\n",
              "      <td>1</td>\n",
              "      <td>0</td>\n",
              "      <td>0</td>\n",
              "      <td>1</td>\n",
              "      <td>1</td>\n",
              "      <td>0</td>\n",
              "    </tr>\n",
              "    <tr>\n",
              "      <th>4</th>\n",
              "      <td>0.0</td>\n",
              "      <td>50</td>\n",
              "      <td>1</td>\n",
              "      <td>0</td>\n",
              "      <td>0</td>\n",
              "      <td>1</td>\n",
              "      <td>0</td>\n",
              "      <td>1</td>\n",
              "      <td>0</td>\n",
              "      <td>0</td>\n",
              "      <td>0</td>\n",
              "      <td>1</td>\n",
              "      <td>0</td>\n",
              "      <td>1</td>\n",
              "      <td>1</td>\n",
              "      <td>0</td>\n",
              "    </tr>\n",
              "    <tr>\n",
              "      <th>...</th>\n",
              "      <td>...</td>\n",
              "      <td>...</td>\n",
              "      <td>...</td>\n",
              "      <td>...</td>\n",
              "      <td>...</td>\n",
              "      <td>...</td>\n",
              "      <td>...</td>\n",
              "      <td>...</td>\n",
              "      <td>...</td>\n",
              "      <td>...</td>\n",
              "      <td>...</td>\n",
              "      <td>...</td>\n",
              "      <td>...</td>\n",
              "      <td>...</td>\n",
              "      <td>...</td>\n",
              "      <td>...</td>\n",
              "    </tr>\n",
              "    <tr>\n",
              "      <th>63216</th>\n",
              "      <td>0.3</td>\n",
              "      <td>46</td>\n",
              "      <td>0</td>\n",
              "      <td>0</td>\n",
              "      <td>0</td>\n",
              "      <td>0</td>\n",
              "      <td>1</td>\n",
              "      <td>1</td>\n",
              "      <td>0</td>\n",
              "      <td>0</td>\n",
              "      <td>0</td>\n",
              "      <td>1</td>\n",
              "      <td>1</td>\n",
              "      <td>0</td>\n",
              "      <td>1</td>\n",
              "      <td>0</td>\n",
              "    </tr>\n",
              "    <tr>\n",
              "      <th>63217</th>\n",
              "      <td>0.3</td>\n",
              "      <td>38</td>\n",
              "      <td>0</td>\n",
              "      <td>0</td>\n",
              "      <td>0</td>\n",
              "      <td>0</td>\n",
              "      <td>1</td>\n",
              "      <td>1</td>\n",
              "      <td>0</td>\n",
              "      <td>0</td>\n",
              "      <td>1</td>\n",
              "      <td>0</td>\n",
              "      <td>1</td>\n",
              "      <td>0</td>\n",
              "      <td>1</td>\n",
              "      <td>0</td>\n",
              "    </tr>\n",
              "    <tr>\n",
              "      <th>63218</th>\n",
              "      <td>0.3</td>\n",
              "      <td>40</td>\n",
              "      <td>0</td>\n",
              "      <td>0</td>\n",
              "      <td>0</td>\n",
              "      <td>0</td>\n",
              "      <td>1</td>\n",
              "      <td>1</td>\n",
              "      <td>0</td>\n",
              "      <td>0</td>\n",
              "      <td>0</td>\n",
              "      <td>1</td>\n",
              "      <td>1</td>\n",
              "      <td>0</td>\n",
              "      <td>1</td>\n",
              "      <td>0</td>\n",
              "    </tr>\n",
              "    <tr>\n",
              "      <th>63219</th>\n",
              "      <td>0.3</td>\n",
              "      <td>20</td>\n",
              "      <td>0</td>\n",
              "      <td>0</td>\n",
              "      <td>0</td>\n",
              "      <td>0</td>\n",
              "      <td>1</td>\n",
              "      <td>1</td>\n",
              "      <td>0</td>\n",
              "      <td>0</td>\n",
              "      <td>1</td>\n",
              "      <td>0</td>\n",
              "      <td>1</td>\n",
              "      <td>0</td>\n",
              "      <td>1</td>\n",
              "      <td>0</td>\n",
              "    </tr>\n",
              "    <tr>\n",
              "      <th>63220</th>\n",
              "      <td>0.3</td>\n",
              "      <td>100</td>\n",
              "      <td>0</td>\n",
              "      <td>0</td>\n",
              "      <td>0</td>\n",
              "      <td>0</td>\n",
              "      <td>1</td>\n",
              "      <td>1</td>\n",
              "      <td>0</td>\n",
              "      <td>0</td>\n",
              "      <td>0</td>\n",
              "      <td>1</td>\n",
              "      <td>1</td>\n",
              "      <td>0</td>\n",
              "      <td>1</td>\n",
              "      <td>0</td>\n",
              "    </tr>\n",
              "  </tbody>\n",
              "</table>\n",
              "<p>63221 rows × 16 columns</p>\n",
              "</div>"
            ],
            "text/plain": [
              "       Comisión  Precio  ...  Tipo de Cliente_Habitual  Tipo de Cliente_Nuevo\n",
              "0           0.0      40  ...                         1                      0\n",
              "1           0.0      50  ...                         1                      0\n",
              "2           0.0      36  ...                         1                      0\n",
              "3           0.0      40  ...                         1                      0\n",
              "4           0.0      50  ...                         1                      0\n",
              "...         ...     ...  ...                       ...                    ...\n",
              "63216       0.3      46  ...                         1                      0\n",
              "63217       0.3      38  ...                         1                      0\n",
              "63218       0.3      40  ...                         1                      0\n",
              "63219       0.3      20  ...                         1                      0\n",
              "63220       0.3     100  ...                         1                      0\n",
              "\n",
              "[63221 rows x 16 columns]"
            ]
          },
          "metadata": {
            "tags": []
          },
          "execution_count": 175
        }
      ]
    },
    {
      "cell_type": "code",
      "metadata": {
        "id": "9C5PcF_rYwPm"
      },
      "source": [
        "datosFinal = pd.get_dummies(final_datosMedio, columns=cat_featsCliente)"
      ],
      "execution_count": null,
      "outputs": []
    },
    {
      "cell_type": "markdown",
      "metadata": {
        "id": "IsRk9_5gYwPm"
      },
      "source": [
        "Viasualizamos las columnas dummies"
      ]
    },
    {
      "cell_type": "code",
      "metadata": {
        "colab": {
          "base_uri": "https://localhost:8080/"
        },
        "id": "n7UZJ6jHYwPn",
        "outputId": "afff8301-27c5-4a3d-d8ee-88298100c1fd"
      },
      "source": [
        "datosFinal.info()"
      ],
      "execution_count": null,
      "outputs": [
        {
          "output_type": "stream",
          "text": [
            "<class 'pandas.core.frame.DataFrame'>\n",
            "RangeIndex: 63221 entries, 0 to 63220\n",
            "Data columns (total 16 columns):\n",
            " #   Column                    Non-Null Count  Dtype  \n",
            "---  ------                    --------------  -----  \n",
            " 0   Comisión                  63221 non-null  float64\n",
            " 1   Precio                    63221 non-null  int64  \n",
            " 2   Frec_Devol_V              63221 non-null  int64  \n",
            " 3   Plataforma_Facebook       63221 non-null  uint8  \n",
            " 4   Plataforma_Instagram      63221 non-null  uint8  \n",
            " 5   Plataforma_Website        63221 non-null  uint8  \n",
            " 6   Plataforma_Youtube        63221 non-null  uint8  \n",
            " 7   Tipo Orden_Compra         63221 non-null  uint8  \n",
            " 8   Tipo Orden_Devolucion     63221 non-null  uint8  \n",
            " 9   Item_Bottoms              63221 non-null  uint8  \n",
            " 10  Item_Interior             63221 non-null  uint8  \n",
            " 11  Item_Tops                 63221 non-null  uint8  \n",
            " 12  Medio_Influencer          63221 non-null  uint8  \n",
            " 13  Medio_Propio              63221 non-null  uint8  \n",
            " 14  Tipo de Cliente_Habitual  63221 non-null  uint8  \n",
            " 15  Tipo de Cliente_Nuevo     63221 non-null  uint8  \n",
            "dtypes: float64(1), int64(2), uint8(13)\n",
            "memory usage: 2.2 MB\n"
          ],
          "name": "stdout"
        }
      ]
    },
    {
      "cell_type": "code",
      "metadata": {
        "id": "NhtRAmn2fZnw"
      },
      "source": [
        "datosFinal2 = datosFinal[['Comisión', 'Precio', 'Plataforma_Facebook', 'Plataforma_Instagram', 'Plataforma_Website', \n",
        "                          'Plataforma_Youtube' , 'Tipo Orden_Compra', 'Tipo Orden_Devolucion', 'Item_Bottoms' , 'Item_Interior', \n",
        "                          'Item_Tops' , 'Medio_Influencer' , 'Medio_Propio', 'Tipo de Cliente_Habitual' , 'Tipo de Cliente_Nuevo',\n",
        "                          'Frec_Devol_V']]"
      ],
      "execution_count": null,
      "outputs": []
    },
    {
      "cell_type": "code",
      "metadata": {
        "colab": {
          "base_uri": "https://localhost:8080/"
        },
        "id": "ga6yIRwihQle",
        "outputId": "97c55dfb-2c1d-4eb2-dc71-81ce8e512e71"
      },
      "source": [
        "datosFinal2.info()"
      ],
      "execution_count": null,
      "outputs": [
        {
          "output_type": "stream",
          "text": [
            "<class 'pandas.core.frame.DataFrame'>\n",
            "RangeIndex: 63221 entries, 0 to 63220\n",
            "Data columns (total 16 columns):\n",
            " #   Column                    Non-Null Count  Dtype  \n",
            "---  ------                    --------------  -----  \n",
            " 0   Comisión                  63221 non-null  float64\n",
            " 1   Precio                    63221 non-null  int64  \n",
            " 2   Plataforma_Facebook       63221 non-null  uint8  \n",
            " 3   Plataforma_Instagram      63221 non-null  uint8  \n",
            " 4   Plataforma_Website        63221 non-null  uint8  \n",
            " 5   Plataforma_Youtube        63221 non-null  uint8  \n",
            " 6   Tipo Orden_Compra         63221 non-null  uint8  \n",
            " 7   Tipo Orden_Devolucion     63221 non-null  uint8  \n",
            " 8   Item_Bottoms              63221 non-null  uint8  \n",
            " 9   Item_Interior             63221 non-null  uint8  \n",
            " 10  Item_Tops                 63221 non-null  uint8  \n",
            " 11  Medio_Influencer          63221 non-null  uint8  \n",
            " 12  Medio_Propio              63221 non-null  uint8  \n",
            " 13  Tipo de Cliente_Habitual  63221 non-null  uint8  \n",
            " 14  Tipo de Cliente_Nuevo     63221 non-null  uint8  \n",
            " 15  Frec_Devol_V              63221 non-null  int64  \n",
            "dtypes: float64(1), int64(2), uint8(13)\n",
            "memory usage: 2.2 MB\n"
          ],
          "name": "stdout"
        }
      ]
    },
    {
      "cell_type": "code",
      "metadata": {
        "colab": {
          "base_uri": "https://localhost:8080/",
          "height": 241
        },
        "id": "kboC6D_6je8N",
        "outputId": "de9f2e5b-5f92-4552-de31-f04d174190ce"
      },
      "source": [
        "datosFinal2.sample(5)"
      ],
      "execution_count": null,
      "outputs": [
        {
          "output_type": "execute_result",
          "data": {
            "text/html": [
              "<div>\n",
              "<style scoped>\n",
              "    .dataframe tbody tr th:only-of-type {\n",
              "        vertical-align: middle;\n",
              "    }\n",
              "\n",
              "    .dataframe tbody tr th {\n",
              "        vertical-align: top;\n",
              "    }\n",
              "\n",
              "    .dataframe thead th {\n",
              "        text-align: right;\n",
              "    }\n",
              "</style>\n",
              "<table border=\"1\" class=\"dataframe\">\n",
              "  <thead>\n",
              "    <tr style=\"text-align: right;\">\n",
              "      <th></th>\n",
              "      <th>Comisión</th>\n",
              "      <th>Precio</th>\n",
              "      <th>Plataforma_Facebook</th>\n",
              "      <th>Plataforma_Instagram</th>\n",
              "      <th>Plataforma_Website</th>\n",
              "      <th>Plataforma_Youtube</th>\n",
              "      <th>Tipo Orden_Compra</th>\n",
              "      <th>Tipo Orden_Devolucion</th>\n",
              "      <th>Item_Bottoms</th>\n",
              "      <th>Item_Interior</th>\n",
              "      <th>Item_Tops</th>\n",
              "      <th>Medio_Influencer</th>\n",
              "      <th>Medio_Propio</th>\n",
              "      <th>Tipo de Cliente_Habitual</th>\n",
              "      <th>Tipo de Cliente_Nuevo</th>\n",
              "      <th>Frec_Devol_V</th>\n",
              "    </tr>\n",
              "  </thead>\n",
              "  <tbody>\n",
              "    <tr>\n",
              "      <th>10197</th>\n",
              "      <td>0.2</td>\n",
              "      <td>50</td>\n",
              "      <td>0</td>\n",
              "      <td>1</td>\n",
              "      <td>0</td>\n",
              "      <td>0</td>\n",
              "      <td>1</td>\n",
              "      <td>0</td>\n",
              "      <td>0</td>\n",
              "      <td>0</td>\n",
              "      <td>1</td>\n",
              "      <td>1</td>\n",
              "      <td>0</td>\n",
              "      <td>0</td>\n",
              "      <td>1</td>\n",
              "      <td>1</td>\n",
              "    </tr>\n",
              "    <tr>\n",
              "      <th>20060</th>\n",
              "      <td>0.0</td>\n",
              "      <td>50</td>\n",
              "      <td>1</td>\n",
              "      <td>0</td>\n",
              "      <td>0</td>\n",
              "      <td>0</td>\n",
              "      <td>1</td>\n",
              "      <td>0</td>\n",
              "      <td>0</td>\n",
              "      <td>1</td>\n",
              "      <td>0</td>\n",
              "      <td>0</td>\n",
              "      <td>1</td>\n",
              "      <td>0</td>\n",
              "      <td>1</td>\n",
              "      <td>1</td>\n",
              "    </tr>\n",
              "    <tr>\n",
              "      <th>5967</th>\n",
              "      <td>0.0</td>\n",
              "      <td>50</td>\n",
              "      <td>1</td>\n",
              "      <td>0</td>\n",
              "      <td>0</td>\n",
              "      <td>0</td>\n",
              "      <td>0</td>\n",
              "      <td>1</td>\n",
              "      <td>0</td>\n",
              "      <td>1</td>\n",
              "      <td>0</td>\n",
              "      <td>0</td>\n",
              "      <td>1</td>\n",
              "      <td>1</td>\n",
              "      <td>0</td>\n",
              "      <td>1</td>\n",
              "    </tr>\n",
              "    <tr>\n",
              "      <th>50586</th>\n",
              "      <td>0.3</td>\n",
              "      <td>35</td>\n",
              "      <td>0</td>\n",
              "      <td>0</td>\n",
              "      <td>0</td>\n",
              "      <td>1</td>\n",
              "      <td>1</td>\n",
              "      <td>0</td>\n",
              "      <td>0</td>\n",
              "      <td>1</td>\n",
              "      <td>0</td>\n",
              "      <td>1</td>\n",
              "      <td>0</td>\n",
              "      <td>0</td>\n",
              "      <td>1</td>\n",
              "      <td>0</td>\n",
              "    </tr>\n",
              "    <tr>\n",
              "      <th>46931</th>\n",
              "      <td>0.0</td>\n",
              "      <td>54</td>\n",
              "      <td>0</td>\n",
              "      <td>1</td>\n",
              "      <td>0</td>\n",
              "      <td>0</td>\n",
              "      <td>1</td>\n",
              "      <td>0</td>\n",
              "      <td>1</td>\n",
              "      <td>0</td>\n",
              "      <td>0</td>\n",
              "      <td>0</td>\n",
              "      <td>1</td>\n",
              "      <td>1</td>\n",
              "      <td>0</td>\n",
              "      <td>1</td>\n",
              "    </tr>\n",
              "  </tbody>\n",
              "</table>\n",
              "</div>"
            ],
            "text/plain": [
              "       Comisión  Precio  ...  Tipo de Cliente_Nuevo  Frec_Devol_V\n",
              "10197       0.2      50  ...                      1             1\n",
              "20060       0.0      50  ...                      1             1\n",
              "5967        0.0      50  ...                      0             1\n",
              "50586       0.3      35  ...                      1             0\n",
              "46931       0.0      54  ...                      0             1\n",
              "\n",
              "[5 rows x 16 columns]"
            ]
          },
          "metadata": {
            "tags": []
          },
          "execution_count": 61
        }
      ]
    },
    {
      "cell_type": "markdown",
      "metadata": {
        "id": "bh-U4cUuH29o"
      },
      "source": [
        "## **Estandarizar las variables**"
      ]
    },
    {
      "cell_type": "code",
      "metadata": {
        "id": "Vn9H6UveFZlr"
      },
      "source": [
        "from sklearn.preprocessing import StandardScaler"
      ],
      "execution_count": null,
      "outputs": []
    },
    {
      "cell_type": "code",
      "metadata": {
        "id": "O-g8bfnAGdOY"
      },
      "source": [
        "scaler = StandardScaler()"
      ],
      "execution_count": null,
      "outputs": []
    },
    {
      "cell_type": "code",
      "metadata": {
        "id": "PKzIBsD9IauP",
        "colab": {
          "base_uri": "https://localhost:8080/"
        },
        "outputId": "6d23f666-57ca-4370-8e81-647a07dfaa7e"
      },
      "source": [
        "#Nuestro Target_Class es: Frec_Devol_V\n",
        "scaler.fit(datosFinal2.drop('Frec_Devol_V',axis=1))"
      ],
      "execution_count": null,
      "outputs": [
        {
          "output_type": "execute_result",
          "data": {
            "text/plain": [
              "StandardScaler(copy=True, with_mean=True, with_std=True)"
            ]
          },
          "metadata": {
            "tags": []
          },
          "execution_count": 182
        }
      ]
    },
    {
      "cell_type": "code",
      "metadata": {
        "id": "tbbCsIXaIdUo"
      },
      "source": [
        "scaled_features = scaler.transform(datosFinal2.drop('Frec_Devol_V',axis=1))"
      ],
      "execution_count": null,
      "outputs": []
    },
    {
      "cell_type": "code",
      "metadata": {
        "id": "EXnAqesjIfNk",
        "colab": {
          "base_uri": "https://localhost:8080/",
          "height": 241
        },
        "outputId": "0056c39b-70f0-42e9-8b03-aa22bb652c9e"
      },
      "source": [
        "df_feat = pd.DataFrame(scaled_features,columns=datosFinal2.columns[:-1])\n",
        "df_feat.head()"
      ],
      "execution_count": null,
      "outputs": [
        {
          "output_type": "execute_result",
          "data": {
            "text/html": [
              "<div>\n",
              "<style scoped>\n",
              "    .dataframe tbody tr th:only-of-type {\n",
              "        vertical-align: middle;\n",
              "    }\n",
              "\n",
              "    .dataframe tbody tr th {\n",
              "        vertical-align: top;\n",
              "    }\n",
              "\n",
              "    .dataframe thead th {\n",
              "        text-align: right;\n",
              "    }\n",
              "</style>\n",
              "<table border=\"1\" class=\"dataframe\">\n",
              "  <thead>\n",
              "    <tr style=\"text-align: right;\">\n",
              "      <th></th>\n",
              "      <th>Comisión</th>\n",
              "      <th>Precio</th>\n",
              "      <th>Plataforma_Facebook</th>\n",
              "      <th>Plataforma_Instagram</th>\n",
              "      <th>Plataforma_Website</th>\n",
              "      <th>Plataforma_Youtube</th>\n",
              "      <th>Tipo Orden_Compra</th>\n",
              "      <th>Tipo Orden_Devolucion</th>\n",
              "      <th>Item_Bottoms</th>\n",
              "      <th>Item_Interior</th>\n",
              "      <th>Item_Tops</th>\n",
              "      <th>Medio_Influencer</th>\n",
              "      <th>Medio_Propio</th>\n",
              "      <th>Tipo de Cliente_Habitual</th>\n",
              "      <th>Tipo de Cliente_Nuevo</th>\n",
              "    </tr>\n",
              "  </thead>\n",
              "  <tbody>\n",
              "    <tr>\n",
              "      <th>0</th>\n",
              "      <td>-0.865809</td>\n",
              "      <td>-0.050115</td>\n",
              "      <td>-0.426368</td>\n",
              "      <td>-1.075355</td>\n",
              "      <td>2.531772</td>\n",
              "      <td>-0.460499</td>\n",
              "      <td>0.314215</td>\n",
              "      <td>-0.314215</td>\n",
              "      <td>1.497643</td>\n",
              "      <td>-0.642808</td>\n",
              "      <td>-0.815222</td>\n",
              "      <td>-0.983076</td>\n",
              "      <td>0.983076</td>\n",
              "      <td>0.97037</td>\n",
              "      <td>-0.97037</td>\n",
              "    </tr>\n",
              "    <tr>\n",
              "      <th>1</th>\n",
              "      <td>-0.865809</td>\n",
              "      <td>0.686539</td>\n",
              "      <td>-0.426368</td>\n",
              "      <td>-1.075355</td>\n",
              "      <td>2.531772</td>\n",
              "      <td>-0.460499</td>\n",
              "      <td>0.314215</td>\n",
              "      <td>-0.314215</td>\n",
              "      <td>-0.667716</td>\n",
              "      <td>-0.642808</td>\n",
              "      <td>1.226660</td>\n",
              "      <td>-0.983076</td>\n",
              "      <td>0.983076</td>\n",
              "      <td>0.97037</td>\n",
              "      <td>-0.97037</td>\n",
              "    </tr>\n",
              "    <tr>\n",
              "      <th>2</th>\n",
              "      <td>-0.865809</td>\n",
              "      <td>-0.344777</td>\n",
              "      <td>-0.426368</td>\n",
              "      <td>-1.075355</td>\n",
              "      <td>2.531772</td>\n",
              "      <td>-0.460499</td>\n",
              "      <td>0.314215</td>\n",
              "      <td>-0.314215</td>\n",
              "      <td>1.497643</td>\n",
              "      <td>-0.642808</td>\n",
              "      <td>-0.815222</td>\n",
              "      <td>-0.983076</td>\n",
              "      <td>0.983076</td>\n",
              "      <td>0.97037</td>\n",
              "      <td>-0.97037</td>\n",
              "    </tr>\n",
              "    <tr>\n",
              "      <th>3</th>\n",
              "      <td>-0.865809</td>\n",
              "      <td>-0.050115</td>\n",
              "      <td>-0.426368</td>\n",
              "      <td>-1.075355</td>\n",
              "      <td>2.531772</td>\n",
              "      <td>-0.460499</td>\n",
              "      <td>0.314215</td>\n",
              "      <td>-0.314215</td>\n",
              "      <td>-0.667716</td>\n",
              "      <td>1.555675</td>\n",
              "      <td>-0.815222</td>\n",
              "      <td>-0.983076</td>\n",
              "      <td>0.983076</td>\n",
              "      <td>0.97037</td>\n",
              "      <td>-0.97037</td>\n",
              "    </tr>\n",
              "    <tr>\n",
              "      <th>4</th>\n",
              "      <td>-0.865809</td>\n",
              "      <td>0.686539</td>\n",
              "      <td>-0.426368</td>\n",
              "      <td>-1.075355</td>\n",
              "      <td>2.531772</td>\n",
              "      <td>-0.460499</td>\n",
              "      <td>0.314215</td>\n",
              "      <td>-0.314215</td>\n",
              "      <td>-0.667716</td>\n",
              "      <td>-0.642808</td>\n",
              "      <td>1.226660</td>\n",
              "      <td>-0.983076</td>\n",
              "      <td>0.983076</td>\n",
              "      <td>0.97037</td>\n",
              "      <td>-0.97037</td>\n",
              "    </tr>\n",
              "  </tbody>\n",
              "</table>\n",
              "</div>"
            ],
            "text/plain": [
              "   Comisión    Precio  ...  Tipo de Cliente_Habitual  Tipo de Cliente_Nuevo\n",
              "0 -0.865809 -0.050115  ...                   0.97037               -0.97037\n",
              "1 -0.865809  0.686539  ...                   0.97037               -0.97037\n",
              "2 -0.865809 -0.344777  ...                   0.97037               -0.97037\n",
              "3 -0.865809 -0.050115  ...                   0.97037               -0.97037\n",
              "4 -0.865809  0.686539  ...                   0.97037               -0.97037\n",
              "\n",
              "[5 rows x 15 columns]"
            ]
          },
          "metadata": {
            "tags": []
          },
          "execution_count": 184
        }
      ]
    },
    {
      "cell_type": "markdown",
      "metadata": {
        "id": "KEiepzIKhttV"
      },
      "source": [
        "## **División en conjunto de entrenamiento y prueba**"
      ]
    },
    {
      "cell_type": "code",
      "metadata": {
        "id": "HHYUWx1zhtBI"
      },
      "source": [
        "from sklearn.model_selection import train_test_split"
      ],
      "execution_count": null,
      "outputs": []
    },
    {
      "cell_type": "code",
      "metadata": {
        "id": "prkAqNFZhwgO"
      },
      "source": [
        "X_train, X_test, y_train, y_test = train_test_split(scaled_features,\n",
        "                                                    datosFinal2['Frec_Devol_V'],\n",
        "                                                    test_size=0.20,\n",
        "                                                    random_state=0)"
      ],
      "execution_count": null,
      "outputs": []
    },
    {
      "cell_type": "markdown",
      "metadata": {
        "id": "pYP5nXXWh3qm"
      },
      "source": [
        "## **Use KNN**"
      ]
    },
    {
      "cell_type": "code",
      "metadata": {
        "id": "VloAK2nvhwYv"
      },
      "source": [
        "#Importar KNeighborsClassifier desde scikit learn.\n",
        "from sklearn.neighbors import KNeighborsClassifier"
      ],
      "execution_count": null,
      "outputs": []
    },
    {
      "cell_type": "code",
      "metadata": {
        "id": "_QDFhhSDh8UJ"
      },
      "source": [
        "# Crea una instancia de modelo KNN con n_neighbors = 1\n",
        "knn = KNeighborsClassifier(n_neighbors=1)"
      ],
      "execution_count": null,
      "outputs": []
    },
    {
      "cell_type": "code",
      "metadata": {
        "colab": {
          "base_uri": "https://localhost:8080/"
        },
        "id": "nECzda9jh8Nu",
        "outputId": "74c7ddf0-ece6-4b83-f602-4a111056c883"
      },
      "source": [
        "# Ajuste este modelo KNN a los datos de entrenamiento.\n",
        "knn.fit(X_train,y_train)"
      ],
      "execution_count": null,
      "outputs": [
        {
          "output_type": "execute_result",
          "data": {
            "text/plain": [
              "KNeighborsClassifier(algorithm='auto', leaf_size=30, metric='minkowski',\n",
              "                     metric_params=None, n_jobs=None, n_neighbors=1, p=2,\n",
              "                     weights='uniform')"
            ]
          },
          "metadata": {
            "tags": []
          },
          "execution_count": 189
        }
      ]
    },
    {
      "cell_type": "markdown",
      "metadata": {
        "id": "C468t_C5yW0H"
      },
      "source": [
        "Hasta el momento todo corre bien, porque hemos cambiado los valores de la columna **objetivo con valores de 0 a 4** indicando la frecuencia de devolución."
      ]
    },
    {
      "cell_type": "markdown",
      "metadata": {
        "id": "_vJxRBNriBAt"
      },
      "source": [
        "## **Predicciones y evaluaciones con K = 1**"
      ]
    },
    {
      "cell_type": "code",
      "metadata": {
        "id": "UNQ4SrYph8Hd"
      },
      "source": [
        "# Usamos el método predict para predecir valores usando su modelo KNN y X_test.\n",
        "pred = knn.predict(X_test)"
      ],
      "execution_count": null,
      "outputs": []
    },
    {
      "cell_type": "code",
      "metadata": {
        "id": "b74TsqfzzRQm"
      },
      "source": [
        "from sklearn.metrics import classification_report,confusion_matrix"
      ],
      "execution_count": null,
      "outputs": []
    },
    {
      "cell_type": "code",
      "metadata": {
        "id": "MDaLpPU8h8Da",
        "colab": {
          "base_uri": "https://localhost:8080/"
        },
        "outputId": "ff413e45-0e3b-4ad9-e28d-ab45fed6706d"
      },
      "source": [
        "# Crea una matriz de confusión y un informe de clasificación.\n",
        "print(confusion_matrix(y_test,pred))"
      ],
      "execution_count": null,
      "outputs": [
        {
          "output_type": "stream",
          "text": [
            "[[  178   300     0     0]\n",
            " [  212 10684    44    76]\n",
            " [    0    55    52     0]\n",
            " [    0    49     0   995]]\n"
          ],
          "name": "stdout"
        }
      ]
    },
    {
      "cell_type": "code",
      "metadata": {
        "id": "IJ5srAKjh78F",
        "colab": {
          "base_uri": "https://localhost:8080/"
        },
        "outputId": "5da3a792-54b4-44fe-99ee-e5514fe6c1e1"
      },
      "source": [
        "print(classification_report(y_test,pred))"
      ],
      "execution_count": null,
      "outputs": [
        {
          "output_type": "stream",
          "text": [
            "              precision    recall  f1-score   support\n",
            "\n",
            "           0       0.46      0.37      0.41       478\n",
            "           1       0.96      0.97      0.97     11016\n",
            "           2       0.54      0.49      0.51       107\n",
            "           3       0.93      0.95      0.94      1044\n",
            "\n",
            "    accuracy                           0.94     12645\n",
            "   macro avg       0.72      0.70      0.71     12645\n",
            "weighted avg       0.94      0.94      0.94     12645\n",
            "\n"
          ],
          "name": "stdout"
        }
      ]
    },
    {
      "cell_type": "markdown",
      "metadata": {
        "id": "UBh6RDi9zuxZ"
      },
      "source": [
        "## **Elegir un valor K**\n",
        "\n",
        "¡Avancemos y usemos el método del codo para elegir un buen valor K!"
      ]
    },
    {
      "cell_type": "markdown",
      "metadata": {
        "id": "kMAsV7IfwcSO"
      },
      "source": [
        "** Cree un bucle for que entrene varios modelos KNN con diferentes valores k, luego realice un seguimiento de tasa_error para cada uno de estos modelos con una lista. Consulte el ejemplo si está confundido en este paso. **"
      ]
    },
    {
      "cell_type": "code",
      "metadata": {
        "id": "x7riEipOtyJx"
      },
      "source": [
        "tasa_error = []\n",
        "\n",
        "# Tomará algún tiempo\n",
        "for i in range(1,40):\n",
        "    knn = KNeighborsClassifier(n_neighbors=i)\n",
        "    knn.fit(X_train,y_train)\n",
        "    pred_i = knn.predict(X_test)\n",
        "    tasa_error.append(np.mean(pred_i != y_test))"
      ],
      "execution_count": null,
      "outputs": []
    },
    {
      "cell_type": "markdown",
      "metadata": {
        "id": "NvqCznLTwlYD"
      },
      "source": [
        "Ahora creamos la siguiente gráfica usando la información del bucle for."
      ]
    },
    {
      "cell_type": "code",
      "metadata": {
        "id": "js23_4hstx1L",
        "colab": {
          "base_uri": "https://localhost:8080/",
          "height": 421
        },
        "outputId": "9d374d56-3490-4d24-e5da-d757c97486f0"
      },
      "source": [
        "plt.figure(figsize=(10,6))\n",
        "plt.plot(range(1,40),tasa_error,color='blue', linestyle='dashed', marker='o',\n",
        "         markerfacecolor='red', markersize=10)\n",
        "plt.title('Tasa de Error vs. Valor de K')\n",
        "plt.xlabel('K')\n",
        "plt.ylabel('Tasa de Error')"
      ],
      "execution_count": null,
      "outputs": [
        {
          "output_type": "execute_result",
          "data": {
            "text/plain": [
              "Text(0, 0.5, 'Tasa de Error')"
            ]
          },
          "metadata": {
            "tags": []
          },
          "execution_count": 77
        },
        {
          "output_type": "display_data",
          "data": {
            "image/png": "[encoded data removed]",
            "text/plain": [
              "<Figure size 720x432 with 1 Axes>"
            ]
          },
          "metadata": {
            "tags": [],
            "needs_background": "light"
          }
        }
      ]
    },
    {
      "cell_type": "markdown",
      "metadata": {
        "id": "iwhlbsOA1aug"
      },
      "source": [
        "Según los resultados, el volor de K más óptimo es K = 19"
      ]
    },
    {
      "cell_type": "markdown",
      "metadata": {
        "id": "0k_wQfnqw84s"
      },
      "source": [
        "Reentrene con un nuevo valor K\n",
        "\n",
        "**Reentrene su modelo con el mejor valor K (depende de usted esta decisión) y vuelva a hacer el informe de clasificación y la matriz de confusión.**"
      ]
    },
    {
      "cell_type": "code",
      "metadata": {
        "id": "kYWBoe5Htxud",
        "colab": {
          "base_uri": "https://localhost:8080/"
        },
        "outputId": "579ccc20-3a4d-476e-8e44-2c290f259c3c"
      },
      "source": [
        "# AHORA CON K=19\n",
        "knn = KNeighborsClassifier(n_neighbors=19)\n",
        "\n",
        "knn.fit(X_train,y_train)\n",
        "pred = knn.predict(X_test)\n",
        "\n",
        "print('CON K=19')\n",
        "print('\\n')\n",
        "print(confusion_matrix(y_test,pred))\n",
        "print('\\n')\n",
        "print(classification_report(y_test,pred))"
      ],
      "execution_count": null,
      "outputs": [
        {
          "output_type": "stream",
          "text": [
            "CON K=19\n",
            "\n",
            "\n",
            "[[  224   254     0     0]\n",
            " [  133 10770    15    98]\n",
            " [    0    84    23     0]\n",
            " [    0     8     0  1036]]\n",
            "\n",
            "\n",
            "              precision    recall  f1-score   support\n",
            "\n",
            "           0       0.63      0.47      0.54       478\n",
            "           1       0.97      0.98      0.97     11016\n",
            "           2       0.61      0.21      0.32       107\n",
            "           3       0.91      0.99      0.95      1044\n",
            "\n",
            "    accuracy                           0.95     12645\n",
            "   macro avg       0.78      0.66      0.69     12645\n",
            "weighted avg       0.95      0.95      0.95     12645\n",
            "\n"
          ],
          "name": "stdout"
        }
      ]
    },
    {
      "cell_type": "markdown",
      "metadata": {
        "id": "FkEAgVaBM6Xd"
      },
      "source": [
        "## Buen trabajo!"
      ]
    },
    {
      "cell_type": "markdown",
      "metadata": {
        "id": "N0vsspXg2Wjd"
      },
      "source": [
        "## **Otro modelo: Árbol de Decisión**"
      ]
    },
    {
      "cell_type": "code",
      "metadata": {
        "id": "gUfjMBIa2m_5"
      },
      "source": [
        "datosFinal2 = datosFinal[['Comisión', 'Precio', 'Plataforma_Facebook', 'Plataforma_Instagram', 'Plataforma_Website', \n",
        "                          'Plataforma_Youtube' , 'Tipo Orden_Compra', 'Tipo Orden_Devolucion', 'Item_Bottoms' , 'Item_Interior', \n",
        "                          'Item_Tops' , 'Medio_Influencer' , 'Medio_Propio', 'Tipo de Cliente_Habitual' , 'Tipo de Cliente_Nuevo',\n",
        "                          'Frec_Devol_V']]"
      ],
      "execution_count": null,
      "outputs": []
    },
    {
      "cell_type": "code",
      "metadata": {
        "colab": {
          "base_uri": "https://localhost:8080/",
          "height": 456
        },
        "id": "eZ8e5e732m1M",
        "outputId": "6ae57782-77a8-49f3-ba2e-40439a6bde15"
      },
      "source": [
        "datosFinal2"
      ],
      "execution_count": null,
      "outputs": [
        {
          "output_type": "execute_result",
          "data": {
            "text/html": [
              "<div>\n",
              "<style scoped>\n",
              "    .dataframe tbody tr th:only-of-type {\n",
              "        vertical-align: middle;\n",
              "    }\n",
              "\n",
              "    .dataframe tbody tr th {\n",
              "        vertical-align: top;\n",
              "    }\n",
              "\n",
              "    .dataframe thead th {\n",
              "        text-align: right;\n",
              "    }\n",
              "</style>\n",
              "<table border=\"1\" class=\"dataframe\">\n",
              "  <thead>\n",
              "    <tr style=\"text-align: right;\">\n",
              "      <th></th>\n",
              "      <th>Comisión</th>\n",
              "      <th>Precio</th>\n",
              "      <th>Plataforma_Facebook</th>\n",
              "      <th>Plataforma_Instagram</th>\n",
              "      <th>Plataforma_Website</th>\n",
              "      <th>Plataforma_Youtube</th>\n",
              "      <th>Tipo Orden_Compra</th>\n",
              "      <th>Tipo Orden_Devolucion</th>\n",
              "      <th>Item_Bottoms</th>\n",
              "      <th>Item_Interior</th>\n",
              "      <th>Item_Tops</th>\n",
              "      <th>Medio_Influencer</th>\n",
              "      <th>Medio_Propio</th>\n",
              "      <th>Tipo de Cliente_Habitual</th>\n",
              "      <th>Tipo de Cliente_Nuevo</th>\n",
              "      <th>Frec_Devol_V</th>\n",
              "    </tr>\n",
              "  </thead>\n",
              "  <tbody>\n",
              "    <tr>\n",
              "      <th>0</th>\n",
              "      <td>0.0</td>\n",
              "      <td>40</td>\n",
              "      <td>0</td>\n",
              "      <td>0</td>\n",
              "      <td>1</td>\n",
              "      <td>0</td>\n",
              "      <td>1</td>\n",
              "      <td>0</td>\n",
              "      <td>1</td>\n",
              "      <td>0</td>\n",
              "      <td>0</td>\n",
              "      <td>0</td>\n",
              "      <td>1</td>\n",
              "      <td>1</td>\n",
              "      <td>0</td>\n",
              "      <td>1</td>\n",
              "    </tr>\n",
              "    <tr>\n",
              "      <th>1</th>\n",
              "      <td>0.0</td>\n",
              "      <td>50</td>\n",
              "      <td>0</td>\n",
              "      <td>0</td>\n",
              "      <td>1</td>\n",
              "      <td>0</td>\n",
              "      <td>1</td>\n",
              "      <td>0</td>\n",
              "      <td>0</td>\n",
              "      <td>0</td>\n",
              "      <td>1</td>\n",
              "      <td>0</td>\n",
              "      <td>1</td>\n",
              "      <td>1</td>\n",
              "      <td>0</td>\n",
              "      <td>1</td>\n",
              "    </tr>\n",
              "    <tr>\n",
              "      <th>2</th>\n",
              "      <td>0.0</td>\n",
              "      <td>36</td>\n",
              "      <td>0</td>\n",
              "      <td>0</td>\n",
              "      <td>1</td>\n",
              "      <td>0</td>\n",
              "      <td>1</td>\n",
              "      <td>0</td>\n",
              "      <td>1</td>\n",
              "      <td>0</td>\n",
              "      <td>0</td>\n",
              "      <td>0</td>\n",
              "      <td>1</td>\n",
              "      <td>1</td>\n",
              "      <td>0</td>\n",
              "      <td>1</td>\n",
              "    </tr>\n",
              "    <tr>\n",
              "      <th>3</th>\n",
              "      <td>0.0</td>\n",
              "      <td>40</td>\n",
              "      <td>0</td>\n",
              "      <td>0</td>\n",
              "      <td>1</td>\n",
              "      <td>0</td>\n",
              "      <td>1</td>\n",
              "      <td>0</td>\n",
              "      <td>0</td>\n",
              "      <td>1</td>\n",
              "      <td>0</td>\n",
              "      <td>0</td>\n",
              "      <td>1</td>\n",
              "      <td>1</td>\n",
              "      <td>0</td>\n",
              "      <td>1</td>\n",
              "    </tr>\n",
              "    <tr>\n",
              "      <th>4</th>\n",
              "      <td>0.0</td>\n",
              "      <td>50</td>\n",
              "      <td>0</td>\n",
              "      <td>0</td>\n",
              "      <td>1</td>\n",
              "      <td>0</td>\n",
              "      <td>1</td>\n",
              "      <td>0</td>\n",
              "      <td>0</td>\n",
              "      <td>0</td>\n",
              "      <td>1</td>\n",
              "      <td>0</td>\n",
              "      <td>1</td>\n",
              "      <td>1</td>\n",
              "      <td>0</td>\n",
              "      <td>1</td>\n",
              "    </tr>\n",
              "    <tr>\n",
              "      <th>...</th>\n",
              "      <td>...</td>\n",
              "      <td>...</td>\n",
              "      <td>...</td>\n",
              "      <td>...</td>\n",
              "      <td>...</td>\n",
              "      <td>...</td>\n",
              "      <td>...</td>\n",
              "      <td>...</td>\n",
              "      <td>...</td>\n",
              "      <td>...</td>\n",
              "      <td>...</td>\n",
              "      <td>...</td>\n",
              "      <td>...</td>\n",
              "      <td>...</td>\n",
              "      <td>...</td>\n",
              "      <td>...</td>\n",
              "    </tr>\n",
              "    <tr>\n",
              "      <th>63216</th>\n",
              "      <td>0.3</td>\n",
              "      <td>46</td>\n",
              "      <td>0</td>\n",
              "      <td>0</td>\n",
              "      <td>0</td>\n",
              "      <td>1</td>\n",
              "      <td>1</td>\n",
              "      <td>0</td>\n",
              "      <td>0</td>\n",
              "      <td>0</td>\n",
              "      <td>1</td>\n",
              "      <td>1</td>\n",
              "      <td>0</td>\n",
              "      <td>1</td>\n",
              "      <td>0</td>\n",
              "      <td>0</td>\n",
              "    </tr>\n",
              "    <tr>\n",
              "      <th>63217</th>\n",
              "      <td>0.3</td>\n",
              "      <td>38</td>\n",
              "      <td>0</td>\n",
              "      <td>0</td>\n",
              "      <td>0</td>\n",
              "      <td>1</td>\n",
              "      <td>1</td>\n",
              "      <td>0</td>\n",
              "      <td>0</td>\n",
              "      <td>1</td>\n",
              "      <td>0</td>\n",
              "      <td>1</td>\n",
              "      <td>0</td>\n",
              "      <td>1</td>\n",
              "      <td>0</td>\n",
              "      <td>0</td>\n",
              "    </tr>\n",
              "    <tr>\n",
              "      <th>63218</th>\n",
              "      <td>0.3</td>\n",
              "      <td>40</td>\n",
              "      <td>0</td>\n",
              "      <td>0</td>\n",
              "      <td>0</td>\n",
              "      <td>1</td>\n",
              "      <td>1</td>\n",
              "      <td>0</td>\n",
              "      <td>0</td>\n",
              "      <td>0</td>\n",
              "      <td>1</td>\n",
              "      <td>1</td>\n",
              "      <td>0</td>\n",
              "      <td>1</td>\n",
              "      <td>0</td>\n",
              "      <td>0</td>\n",
              "    </tr>\n",
              "    <tr>\n",
              "      <th>63219</th>\n",
              "      <td>0.3</td>\n",
              "      <td>20</td>\n",
              "      <td>0</td>\n",
              "      <td>0</td>\n",
              "      <td>0</td>\n",
              "      <td>1</td>\n",
              "      <td>1</td>\n",
              "      <td>0</td>\n",
              "      <td>0</td>\n",
              "      <td>1</td>\n",
              "      <td>0</td>\n",
              "      <td>1</td>\n",
              "      <td>0</td>\n",
              "      <td>1</td>\n",
              "      <td>0</td>\n",
              "      <td>0</td>\n",
              "    </tr>\n",
              "    <tr>\n",
              "      <th>63220</th>\n",
              "      <td>0.3</td>\n",
              "      <td>100</td>\n",
              "      <td>0</td>\n",
              "      <td>0</td>\n",
              "      <td>0</td>\n",
              "      <td>1</td>\n",
              "      <td>1</td>\n",
              "      <td>0</td>\n",
              "      <td>0</td>\n",
              "      <td>0</td>\n",
              "      <td>1</td>\n",
              "      <td>1</td>\n",
              "      <td>0</td>\n",
              "      <td>1</td>\n",
              "      <td>0</td>\n",
              "      <td>0</td>\n",
              "    </tr>\n",
              "  </tbody>\n",
              "</table>\n",
              "<p>63221 rows × 16 columns</p>\n",
              "</div>"
            ],
            "text/plain": [
              "       Comisión  Precio  ...  Tipo de Cliente_Nuevo  Frec_Devol_V\n",
              "0           0.0      40  ...                      0             1\n",
              "1           0.0      50  ...                      0             1\n",
              "2           0.0      36  ...                      0             1\n",
              "3           0.0      40  ...                      0             1\n",
              "4           0.0      50  ...                      0             1\n",
              "...         ...     ...  ...                    ...           ...\n",
              "63216       0.3      46  ...                      0             0\n",
              "63217       0.3      38  ...                      0             0\n",
              "63218       0.3      40  ...                      0             0\n",
              "63219       0.3      20  ...                      0             0\n",
              "63220       0.3     100  ...                      0             0\n",
              "\n",
              "[63221 rows x 16 columns]"
            ]
          },
          "metadata": {
            "tags": []
          },
          "execution_count": 87
        }
      ]
    },
    {
      "cell_type": "markdown",
      "metadata": {
        "id": "PyaTUosp63J3"
      },
      "source": [
        "## **División en Conjunto de entrenamiento y de prueba**"
      ]
    },
    {
      "cell_type": "code",
      "metadata": {
        "id": "r7RFVkQw60iq"
      },
      "source": [
        "from sklearn.model_selection import train_test_split"
      ],
      "execution_count": null,
      "outputs": []
    },
    {
      "cell_type": "code",
      "metadata": {
        "id": "aUJQOdYa67iy"
      },
      "source": [
        "X = datosFinal2.drop('Frec_Devol_V',axis=1)\n",
        "y = datosFinal2['Frec_Devol_V']"
      ],
      "execution_count": null,
      "outputs": []
    },
    {
      "cell_type": "code",
      "metadata": {
        "id": "Ni3x0dJs67VD"
      },
      "source": [
        "X_train, X_test, y_train, y_test = train_test_split(X, y, test_size=0.20,random_state=0)"
      ],
      "execution_count": null,
      "outputs": []
    },
    {
      "cell_type": "code",
      "metadata": {
        "id": "LeD2zv7O7WeI"
      },
      "source": [
        "from sklearn.tree import DecisionTreeClassifier"
      ],
      "execution_count": null,
      "outputs": []
    },
    {
      "cell_type": "code",
      "metadata": {
        "id": "JE96HEg27YtR"
      },
      "source": [
        "dtree = DecisionTreeClassifier(criterion='gini',random_state=0)"
      ],
      "execution_count": null,
      "outputs": []
    },
    {
      "cell_type": "code",
      "metadata": {
        "colab": {
          "base_uri": "https://localhost:8080/"
        },
        "id": "UUfsiowW7Yon",
        "outputId": "9bd0909f-710a-4efa-ba46-f88334dda00f"
      },
      "source": [
        "# Comenzaremos simplemente entrenando un solo árbol de decisión.\n",
        "dtree.fit(X_train,y_train)"
      ],
      "execution_count": null,
      "outputs": [
        {
          "output_type": "execute_result",
          "data": {
            "text/plain": [
              "DecisionTreeClassifier(ccp_alpha=0.0, class_weight=None, criterion='gini',\n",
              "                       max_depth=None, max_features=None, max_leaf_nodes=None,\n",
              "                       min_impurity_decrease=0.0, min_impurity_split=None,\n",
              "                       min_samples_leaf=1, min_samples_split=2,\n",
              "                       min_weight_fraction_leaf=0.0, presort='deprecated',\n",
              "                       random_state=0, splitter='best')"
            ]
          },
          "metadata": {
            "tags": []
          },
          "execution_count": 85
        }
      ]
    },
    {
      "cell_type": "code",
      "metadata": {
        "id": "lo7aftbW7Yjy"
      },
      "source": [
        "# Predicción y Evaluación\n",
        "predictions = dtree.predict(X_test)"
      ],
      "execution_count": null,
      "outputs": []
    },
    {
      "cell_type": "code",
      "metadata": {
        "id": "_FCsvbEp7YeG"
      },
      "source": [
        "from sklearn.metrics import classification_report,confusion_matrix"
      ],
      "execution_count": null,
      "outputs": []
    },
    {
      "cell_type": "code",
      "metadata": {
        "colab": {
          "base_uri": "https://localhost:8080/"
        },
        "id": "Qg_37R6160YU",
        "outputId": "359dfdd3-0b1c-4cb9-a5f0-18b71bb886b0"
      },
      "source": [
        "print(classification_report(y_test,predictions))"
      ],
      "execution_count": null,
      "outputs": [
        {
          "output_type": "stream",
          "text": [
            "              precision    recall  f1-score   support\n",
            "\n",
            "           0       0.58      0.53      0.56       478\n",
            "           1       0.97      0.97      0.97     11016\n",
            "           2       0.57      0.24      0.34       107\n",
            "           3       0.91      1.00      0.95      1044\n",
            "\n",
            "    accuracy                           0.95     12645\n",
            "   macro avg       0.76      0.69      0.71     12645\n",
            "weighted avg       0.95      0.95      0.95     12645\n",
            "\n"
          ],
          "name": "stdout"
        }
      ]
    },
    {
      "cell_type": "code",
      "metadata": {
        "colab": {
          "base_uri": "https://localhost:8080/"
        },
        "id": "qEqiPHVy7xN5",
        "outputId": "045de730-c9d9-4b14-ebb5-f51ce2221f30"
      },
      "source": [
        "print(confusion_matrix(y_test,predictions))"
      ],
      "execution_count": null,
      "outputs": [
        {
          "output_type": "stream",
          "text": [
            "[[  254   224     0     0]\n",
            " [  181 10718    20    97]\n",
            " [    0    81    26     0]\n",
            " [    0     5     0  1039]]\n"
          ],
          "name": "stdout"
        }
      ]
    },
    {
      "cell_type": "markdown",
      "metadata": {
        "id": "1wIjiyR978mO"
      },
      "source": [
        "## **Visualización de árbol**"
      ]
    },
    {
      "cell_type": "code",
      "metadata": {
        "colab": {
          "base_uri": "https://localhost:8080/"
        },
        "id": "Jjkyl5ir7xEQ",
        "outputId": "89aa0415-7724-49d6-c5c9-b95e62071365"
      },
      "source": [
        "from IPython.display import Image  \n",
        "from sklearn.externals.six import StringIO  \n",
        "from sklearn.tree import export_graphviz\n",
        "import pydot \n",
        "\n",
        "features = list(datosFinal2.columns[1:])\n",
        "features"
      ],
      "execution_count": null,
      "outputs": [
        {
          "output_type": "stream",
          "text": [
            "/usr/local/lib/python3.7/dist-packages/sklearn/externals/six.py:31: FutureWarning: The module is deprecated in version 0.21 and will be removed in version 0.23 since we've dropped support for Python 2.7. Please rely on the official version of six (https://pypi.org/project/six/).\n",
            "  \"(https://pypi.org/project/six/).\", FutureWarning)\n"
          ],
          "name": "stderr"
        },
        {
          "output_type": "execute_result",
          "data": {
            "text/plain": [
              "['Precio',\n",
              " 'Plataforma_Facebook',\n",
              " 'Plataforma_Instagram',\n",
              " 'Plataforma_Website',\n",
              " 'Plataforma_Youtube',\n",
              " 'Tipo Orden_Compra',\n",
              " 'Tipo Orden_Devolucion',\n",
              " 'Item_Bottoms',\n",
              " 'Item_Interior',\n",
              " 'Item_Tops',\n",
              " 'Medio_Influencer',\n",
              " 'Medio_Propio',\n",
              " 'Tipo de Cliente_Habitual',\n",
              " 'Tipo de Cliente_Nuevo',\n",
              " 'Frec_Devol_V']"
            ]
          },
          "metadata": {
            "tags": []
          },
          "execution_count": 90
        }
      ]
    },
    {
      "cell_type": "code",
      "metadata": {
        "colab": {
          "base_uri": "https://localhost:8080/",
          "height": 1000
        },
        "id": "M-NjSa2w8Qyw",
        "outputId": "dc5f6753-c37a-42f3-f9f6-319f18ec7b12"
      },
      "source": [
        "dot_data = StringIO()  \n",
        "export_graphviz(dtree, out_file=dot_data,feature_names=features,filled=True,rounded=True)\n",
        "\n",
        "graph = pydot.graph_from_dot_data(dot_data.getvalue())  \n",
        "Image(graph[0].create_png())"
      ],
      "execution_count": null,
      "outputs": []
    },
    {
      "cell_type": "code",
      "metadata": {
        "colab": {
          "base_uri": "https://localhost:8080/",
          "height": 51
        },
        "id": "2XUBXVgW8Qsu",
        "outputId": "8b9feb7d-54d2-43df-f1e9-2faff6fd1cdf"
      },
      "source": [
        "plt.figure(figsize=(12,8),dpi=150)"
      ],
      "execution_count": null,
      "outputs": [
        {
          "output_type": "execute_result",
          "data": {
            "text/plain": [
              "<Figure size 1800x1200 with 0 Axes>"
            ]
          },
          "metadata": {
            "tags": []
          },
          "execution_count": 118
        },
        {
          "output_type": "display_data",
          "data": {
            "text/plain": [
              "<Figure size 1800x1200 with 0 Axes>"
            ]
          },
          "metadata": {
            "tags": []
          }
        }
      ]
    },
    {
      "cell_type": "markdown",
      "metadata": {
        "id": "qIX2vV6Q8cVF"
      },
      "source": [
        "## **Bosques Aleatorios**"
      ]
    },
    {
      "cell_type": "code",
      "metadata": {
        "colab": {
          "base_uri": "https://localhost:8080/"
        },
        "id": "UObN9e5n8Qnh",
        "outputId": "bcc43518-fd39-4d96-a82a-605a26a9efda"
      },
      "source": [
        "from sklearn.ensemble import RandomForestClassifier\n",
        "rfc = RandomForestClassifier(n_estimators=100,random_state=0,criterion='gini')\n",
        "rfc.fit(X_train, y_train)\n"
      ],
      "execution_count": null,
      "outputs": [
        {
          "output_type": "execute_result",
          "data": {
            "text/plain": [
              "RandomForestClassifier(bootstrap=True, ccp_alpha=0.0, class_weight=None,\n",
              "                       criterion='gini', max_depth=None, max_features='auto',\n",
              "                       max_leaf_nodes=None, max_samples=None,\n",
              "                       min_impurity_decrease=0.0, min_impurity_split=None,\n",
              "                       min_samples_leaf=1, min_samples_split=2,\n",
              "                       min_weight_fraction_leaf=0.0, n_estimators=100,\n",
              "                       n_jobs=None, oob_score=False, random_state=0, verbose=0,\n",
              "                       warm_start=False)"
            ]
          },
          "metadata": {
            "tags": []
          },
          "execution_count": 197
        }
      ]
    },
    {
      "cell_type": "code",
      "metadata": {
        "id": "Bk9VvIy_81mo"
      },
      "source": [
        "rfc_pred = rfc.predict(X_test)"
      ],
      "execution_count": null,
      "outputs": []
    },
    {
      "cell_type": "code",
      "metadata": {
        "colab": {
          "base_uri": "https://localhost:8080/"
        },
        "id": "7uBqAkMf81hv",
        "outputId": "33eb64bb-6e7b-4cff-caf5-68f33bb26f07"
      },
      "source": [
        "print(confusion_matrix(y_test,rfc_pred))"
      ],
      "execution_count": null,
      "outputs": [
        {
          "output_type": "stream",
          "text": [
            "[[  246   232     0     0]\n",
            " [  177 10716    24    99]\n",
            " [    0    77    30     0]\n",
            " [    0     5     0  1039]]\n"
          ],
          "name": "stdout"
        }
      ]
    },
    {
      "cell_type": "code",
      "metadata": {
        "colab": {
          "base_uri": "https://localhost:8080/"
        },
        "id": "rae-9BuI81e_",
        "outputId": "b5821fff-9acb-44e8-f9ea-8fc561f9d931"
      },
      "source": [
        "print(classification_report(y_test,rfc_pred))"
      ],
      "execution_count": null,
      "outputs": [
        {
          "output_type": "stream",
          "text": [
            "              precision    recall  f1-score   support\n",
            "\n",
            "           0       0.58      0.51      0.55       478\n",
            "           1       0.97      0.97      0.97     11016\n",
            "           2       0.56      0.28      0.37       107\n",
            "           3       0.91      1.00      0.95      1044\n",
            "\n",
            "    accuracy                           0.95     12645\n",
            "   macro avg       0.76      0.69      0.71     12645\n",
            "weighted avg       0.95      0.95      0.95     12645\n",
            "\n"
          ],
          "name": "stdout"
        }
      ]
    },
    {
      "cell_type": "markdown",
      "metadata": {
        "id": "uxlGRlnu9AWI"
      },
      "source": [
        "## ¡Buen trabajo!"
      ]
    }
  ]
}